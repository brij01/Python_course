{
 "cells": [
  {
   "cell_type": "markdown",
   "id": "b4e82827-f592-45f4-854d-e3afa9e23c36",
   "metadata": {},
   "source": [
    "# Lesson 3: Ragged and nested arrays (workbook)"
   ]
  },
  {
   "cell_type": "code",
   "execution_count": null,
   "id": "05b20d4e-7970-44e9-97f4-b262d5460219",
   "metadata": {},
   "outputs": [],
   "source": [
    "# Scientific Python ecosystem\n",
    "import numpy as np\n",
    "import pyarrow as pa\n",
    "\n",
    "# Particle physics tools\n",
    "import awkward as ak\n",
    "import uproot\n",
    "from hist import Hist\n",
    "import vector\n",
    "vector.register_awkward()"
   ]
  },
  {
   "cell_type": "markdown",
   "id": "0853ef03-0fa3-4830-8e2d-5564cbae32b2",
   "metadata": {},
   "source": [
    "Links to documentation for each library:\n",
    "\n",
    "* [Awkward Array](https://awkward-array.org/): ragged, nested arrays with an interface like NumPy\n",
    "* [Uproot](https://uproot.readthedocs.io/): reads and writes ROOT files with arrays\n",
    "* [Vector](https://vector.readthedocs.io/): 2D, 3D, 4D vector calculations and coordinate transformations\n",
    "* [hist](https://hist.readthedocs.io/): histogramming with histogram objects\n",
    "\n",
    "[Array-oriented puzzles](https://github.com/hsf-training/array-oriented-puzzles) has more advanced mini-quizzes than the one below, if you want to test your skills."
   ]
  },
  {
   "cell_type": "code",
   "execution_count": null,
   "id": "3af41fad-0768-42f9-a00a-f7a93e59227e",
   "metadata": {},
   "outputs": [],
   "source": [
    "ragged = ak.Array([\n",
    "    [\n",
    "      [[1.84, 0.324]],\n",
    "      [[-1.609, -0.713, 0.005], [0.953, -0.993, 0.011, 0.718]],\n",
    "      [[0.459, -1.517, 1.545], [0.33, 0.292]],\n",
    "      [[-0.376, -1.46, -0.206], [0.65, 1.278]],\n",
    "      [[], [], [1.617]],\n",
    "      []\n",
    "    ],\n",
    "    [\n",
    "      [[-0.106, 0.611]],\n",
    "      [[0.118, -1.788, 0.794, 0.658], [-0.105]]\n",
    "    ],\n",
    "    [\n",
    "      [[-0.384], [0.697, -0.856]],\n",
    "      [[0.778, 0.023, -1.455, -2.289], [-0.67], [1.153, -1.669, 0.305, 1.517, -0.292]]\n",
    "    ],\n",
    "    [\n",
    "      [[0.205, -0.355], [-0.265], [1.042]],\n",
    "      [[-0.004], [-1.167, -0.054, 0.726, 0.213]],\n",
    "      [[1.741, -0.199, 0.827]]\n",
    "    ]\n",
    "])"
   ]
  },
  {
   "cell_type": "code",
   "execution_count": null,
   "id": "7d2c9caf-4255-45a0-bbc0-cf49a878c430",
   "metadata": {},
   "outputs": [],
   "source": [
    "file = uproot.open(\"data/SMHiggsToZZTo4L.root\")\n",
    "tree = file[\"Events\"]"
   ]
  },
  {
   "cell_type": "code",
   "execution_count": null,
   "id": "f8a15ae4-af9a-4463-b31d-44235c05c436",
   "metadata": {},
   "outputs": [],
   "source": [
    "events = ak.from_parquet(\"data/SMHiggsToZZTo4L.parquet\")"
   ]
  },
  {
   "cell_type": "code",
   "execution_count": null,
   "id": "79b4abff-1c22-423c-9864-ceead4f46792",
   "metadata": {},
   "outputs": [],
   "source": []
  },
  {
   "cell_type": "code",
   "execution_count": null,
   "id": "1c1de149-fb8e-489f-b42a-a37a687ab27f",
   "metadata": {},
   "outputs": [],
   "source": []
  },
  {
   "cell_type": "code",
   "execution_count": null,
   "id": "43ebcaea-9398-46ec-9b17-0166b85164c3",
   "metadata": {},
   "outputs": [],
   "source": []
  },
  {
   "cell_type": "markdown",
   "id": "dd5ce424-7bb6-43d5-8019-db41d6915913",
   "metadata": {},
   "source": [
    "**Mini-quiz 1:** Using the reducer [ak.any](https://awkward-array.org/doc/main/reference/generated/ak.any.html), how would we select _events_ in which any electron has $p_T > 30$ GeV/c$^2$?"
   ]
  },
  {
   "cell_type": "code",
   "execution_count": null,
   "id": "82fe2e33-6138-41a9-89c4-49feaeb1b686",
   "metadata": {},
   "outputs": [],
   "source": [
    "events.electron[events.electron.pt > 30]"
   ]
  },
  {
   "cell_type": "code",
   "execution_count": null,
   "id": "0500d4e7-815f-49aa-b2a3-40f8e8715b0b",
   "metadata": {},
   "outputs": [],
   "source": []
  },
  {
   "cell_type": "code",
   "execution_count": null,
   "id": "369ef1a0-0b4e-4a94-853a-b6aa745ec3f5",
   "metadata": {},
   "outputs": [],
   "source": []
  },
  {
   "cell_type": "code",
   "execution_count": null,
   "id": "a2305d1d-5bd0-4f45-a00a-b55f0eda9789",
   "metadata": {},
   "outputs": [],
   "source": []
  },
  {
   "cell_type": "code",
   "execution_count": null,
   "id": "b7ef9855-d89b-430a-af61-d022513a2f97",
   "metadata": {},
   "outputs": [],
   "source": [
    "numbers = ak.Array([[1, 2, 3], [], [4]])\n",
    "letters = ak.Array([[\"a\", \"b\"], [\"c\"], [\"d\", \"e\"]])"
   ]
  },
  {
   "cell_type": "code",
   "execution_count": null,
   "id": "e9917486-cd2e-4028-8322-6becc4ad9391",
   "metadata": {},
   "outputs": [],
   "source": []
  },
  {
   "cell_type": "code",
   "execution_count": null,
   "id": "83efa627-4050-458f-8b3a-8a925a79f201",
   "metadata": {},
   "outputs": [],
   "source": []
  },
  {
   "cell_type": "code",
   "execution_count": null,
   "id": "7ccff284-cb32-4237-8f64-f5920f584986",
   "metadata": {},
   "outputs": [],
   "source": []
  },
  {
   "cell_type": "code",
   "execution_count": null,
   "id": "23a50e9f-5605-421e-ae10-7d904a553a51",
   "metadata": {},
   "outputs": [],
   "source": [
    "values = ak.Array([[1.1, 2.2, 3.3, 4.4], [], [5.5, 6.6]])"
   ]
  },
  {
   "cell_type": "code",
   "execution_count": null,
   "id": "a44f3d68-1554-4468-8f60-893ef1b221cf",
   "metadata": {},
   "outputs": [],
   "source": []
  },
  {
   "cell_type": "code",
   "execution_count": null,
   "id": "6df13cc4-cbf3-4438-8169-b70d25061573",
   "metadata": {},
   "outputs": [],
   "source": []
  },
  {
   "cell_type": "code",
   "execution_count": null,
   "id": "9eb08ec8-2c07-44aa-b456-bb9dde5d6c8f",
   "metadata": {},
   "outputs": [],
   "source": []
  }
 ],
 "metadata": {
  "kernelspec": {
   "display_name": "Python 3 (ipykernel)",
   "language": "python",
   "name": "python3"
  },
  "language_info": {
   "codemirror_mode": {
    "name": "ipython",
    "version": 3
   },
   "file_extension": ".py",
   "mimetype": "text/x-python",
   "name": "python",
   "nbconvert_exporter": "python",
   "pygments_lexer": "ipython3",
   "version": "3.11.11"
  }
 },
 "nbformat": 4,
 "nbformat_minor": 5
}
