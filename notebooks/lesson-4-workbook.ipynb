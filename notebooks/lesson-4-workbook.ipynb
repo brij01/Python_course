{
 "cells": [
  {
   "cell_type": "markdown",
   "id": "36b3717d-8c1b-4d76-be66-f8860cf99a5b",
   "metadata": {},
   "source": [
    "# Lesson 4: Vertical and horizontal scaling (workbook)"
   ]
  },
  {
   "cell_type": "code",
   "execution_count": null,
   "id": "05b20d4e-7970-44e9-97f4-b262d5460219",
   "metadata": {},
   "outputs": [],
   "source": [
    "# Python standard library\n",
    "import ctypes\n",
    "import time\n",
    "from subprocess import Popen, PIPE\n",
    "\n",
    "# Scientific Python ecosystem\n",
    "import numpy as np\n",
    "import numba as nb\n",
    "import dask\n",
    "import dask.array as da\n",
    "import dask.distributed\n",
    "import h5py\n",
    "\n",
    "# Particle physics tools\n",
    "import awkward as ak\n",
    "import uproot\n",
    "import dask_awkward as dak\n",
    "from hist import Hist"
   ]
  },
  {
   "cell_type": "markdown",
   "id": "85d1f726-158c-45e8-b625-18f265c941a4",
   "metadata": {},
   "source": [
    "## Performance limitations of array-oriented code"
   ]
  },
  {
   "cell_type": "code",
   "execution_count": null,
   "id": "535ef635-4c33-453e-a51d-929679dbf6ec",
   "metadata": {},
   "outputs": [],
   "source": [
    "events = ak.from_parquet(\"data/SMHiggsToZZTo4L.parquet\")[:100000]"
   ]
  },
  {
   "cell_type": "code",
   "execution_count": null,
   "id": "27d90ef7-c33a-41f5-9713-6b557e34e0cf",
   "metadata": {},
   "outputs": [],
   "source": [
    "%%timeit -r1 -n1\n",
    "\n",
    "pz = [[muon.pt * np.sinh(muon.eta) for muon in event.muon] for event in events]"
   ]
  },
  {
   "cell_type": "code",
   "execution_count": null,
   "id": "1f338efc-233c-471f-8134-91af84853fe9",
   "metadata": {},
   "outputs": [],
   "source": [
    "%%timeit -r1 -n1\n",
    "\n",
    "pz = events.muon.pt * np.sinh(events.muon.eta)"
   ]
  },
  {
   "cell_type": "code",
   "execution_count": null,
   "id": "22a797d6-410a-48c6-b312-9a42909d1df0",
   "metadata": {},
   "outputs": [],
   "source": []
  },
  {
   "cell_type": "code",
   "execution_count": null,
   "id": "1b948efd-c08b-467a-bb91-b45a48c4e0b9",
   "metadata": {},
   "outputs": [],
   "source": []
  },
  {
   "cell_type": "code",
   "execution_count": null,
   "id": "1dd33f83-050d-4da7-b7d3-bba61afa3bca",
   "metadata": {},
   "outputs": [],
   "source": []
  },
  {
   "cell_type": "markdown",
   "id": "64f89e48-6483-4dcf-bdaf-e87acba4e983",
   "metadata": {},
   "source": [
    "## Speed of compiled code"
   ]
  },
  {
   "cell_type": "code",
   "execution_count": null,
   "id": "81041ce0-0497-4767-aac7-0ea778d09e60",
   "metadata": {},
   "outputs": [],
   "source": [
    "%%writefile quadratic_formula_c.c\n",
    "\n",
    "#include <math.h>\n",
    "\n",
    "void run(double* a, double* b, double* c, double* output) {\n",
    "    for (int i = 0;  i < 1000000;  i++) {\n",
    "        output[i] = (-b[i] + sqrt(b[i]*b[i] - 4*a[i]*c[i])) / (2*a[i]);\n",
    "    }\n",
    "}"
   ]
  },
  {
   "cell_type": "code",
   "execution_count": null,
   "id": "38ffaf9b-14a6-4d4b-b34c-d1ab1582d594",
   "metadata": {},
   "outputs": [],
   "source": [
    "! cc quadratic_formula_c.c -O3 -shared -lm -o quadratic_formula_c.so"
   ]
  },
  {
   "cell_type": "code",
   "execution_count": null,
   "id": "f5eff19b-8141-412f-ae7b-7b6f3a047f09",
   "metadata": {},
   "outputs": [],
   "source": [
    "pointer_double = ctypes.POINTER(ctypes.c_double)\n",
    "\n",
    "quadratic_formula_c = ctypes.CDLL(\"./quadratic_formula_c.so\")\n",
    "quadratic_formula_c.run.argtypes = (pointer_double, pointer_double, pointer_double, pointer_double)\n",
    "quadratic_formula_c.run.restype = None\n",
    "\n",
    "def ptr(array):\n",
    "    return array.ctypes.data_as(pointer_double)"
   ]
  },
  {
   "cell_type": "code",
   "execution_count": null,
   "id": "3bcc79f2-9156-4606-a0fb-5bfa9aa6bf44",
   "metadata": {},
   "outputs": [],
   "source": [
    "a = np.random.uniform(5, 10, 1000000)\n",
    "b = np.random.uniform(10, 20, 1000000)\n",
    "c = np.random.uniform(-0.1, 0.1, 1000000)"
   ]
  },
  {
   "cell_type": "code",
   "execution_count": null,
   "id": "ff35c7e3-9756-482f-9e1d-2bafdbe699c8",
   "metadata": {},
   "outputs": [],
   "source": [
    "%%timeit\n",
    "\n",
    "output = np.empty(1000000)\n",
    "quadratic_formula_c.run(ptr(a), ptr(b), ptr(c), ptr(output))"
   ]
  },
  {
   "cell_type": "code",
   "execution_count": null,
   "id": "02a27621-f9b6-420d-ad30-12c04dbd6263",
   "metadata": {},
   "outputs": [],
   "source": [
    "%%timeit\n",
    "\n",
    "output = (-b + np.sqrt(b**2 - 4*a*c)) / (2*a)"
   ]
  },
  {
   "cell_type": "code",
   "execution_count": null,
   "id": "678999a4-4006-4762-89a3-5f06658f468d",
   "metadata": {},
   "outputs": [],
   "source": []
  },
  {
   "cell_type": "code",
   "execution_count": null,
   "id": "7548d450-3ab5-4b3d-bb04-7bfa537eeff7",
   "metadata": {},
   "outputs": [],
   "source": []
  },
  {
   "cell_type": "code",
   "execution_count": null,
   "id": "4260566f-cfec-4c04-9806-5e95737c1ba4",
   "metadata": {},
   "outputs": [],
   "source": []
  },
  {
   "cell_type": "code",
   "execution_count": null,
   "id": "25c169d6-d887-40b2-8028-cfed02b93acc",
   "metadata": {},
   "outputs": [],
   "source": [
    "%%timeit\n",
    "\n",
    "tmp1 = np.negative(b)            # -b\n",
    "tmp2 = np.square(b)              # b**2\n",
    "tmp3 = np.multiply(4, a)         # 4*a\n",
    "tmp4 = np.multiply(tmp3, c)      # tmp3*c\n",
    "del tmp3\n",
    "tmp5 = np.subtract(tmp2, tmp4)   # tmp2 - tmp4\n",
    "del tmp2, tmp4\n",
    "tmp6 = np.sqrt(tmp5)             # sqrt(tmp5)\n",
    "del tmp5\n",
    "tmp7 = np.add(tmp1, tmp6)        # tmp1 + tmp6\n",
    "del tmp1, tmp6\n",
    "tmp8 = np.multiply(2, a)         # 2*a\n",
    "np.divide(tmp7, tmp8)            # tmp7 / tmp8     This is the result!"
   ]
  },
  {
   "cell_type": "code",
   "execution_count": null,
   "id": "7fa37597-1eaa-4985-917e-5f134f3b9385",
   "metadata": {},
   "outputs": [],
   "source": []
  },
  {
   "cell_type": "code",
   "execution_count": null,
   "id": "0c09c69e-c8ec-4ebc-b560-de2ddefe8021",
   "metadata": {},
   "outputs": [],
   "source": []
  },
  {
   "cell_type": "code",
   "execution_count": null,
   "id": "cf2576ac-adc0-4714-9567-4c2840526dbb",
   "metadata": {},
   "outputs": [],
   "source": []
  },
  {
   "cell_type": "code",
   "execution_count": null,
   "id": "cfbaad09-af8e-47be-ad8c-a61b8614a95c",
   "metadata": {},
   "outputs": [],
   "source": [
    "%%timeit -r1 -n1\n",
    "\n",
    "output = np.empty(1000000)\n",
    "for i in range(len(output)):\n",
    "    output[i] = (-b[i] + np.sqrt(b[i]**2 - 4*a[i]*c[i])) / (2*a[i])"
   ]
  },
  {
   "cell_type": "code",
   "execution_count": null,
   "id": "ec1810f7-c5c5-49d4-a93c-7c807138b8e5",
   "metadata": {},
   "outputs": [],
   "source": []
  },
  {
   "cell_type": "code",
   "execution_count": null,
   "id": "db290bca-ad72-4e2f-bc78-1fa3fefe2205",
   "metadata": {},
   "outputs": [],
   "source": []
  },
  {
   "cell_type": "code",
   "execution_count": null,
   "id": "7c44870e-e186-42b2-8a31-33baff1bff09",
   "metadata": {},
   "outputs": [],
   "source": []
  },
  {
   "cell_type": "markdown",
   "id": "11c2d56d-e264-4f3f-b7ca-fc391e9b4c75",
   "metadata": {},
   "source": [
    "### pybind11"
   ]
  },
  {
   "cell_type": "code",
   "execution_count": null,
   "id": "14891470-ea04-40ec-81ea-1a99a44366f6",
   "metadata": {},
   "outputs": [],
   "source": [
    "%%writefile quadratic_formula_pybind11.cpp\n",
    "\n",
    "#include <pybind11/pybind11.h>\n",
    "#include <pybind11/numpy.h>\n",
    "\n",
    "namespace py = pybind11;\n",
    "\n",
    "void run(\n",
    "    py::array_t<double, py::array::forcecast> a_numpy,\n",
    "    py::array_t<double, py::array::forcecast> b_numpy,\n",
    "    py::array_t<double, py::array::forcecast> c_numpy,\n",
    "    py::array_t<double> output_numpy\n",
    ") {\n",
    "    const double* a = a_numpy.data();\n",
    "    const double* b = b_numpy.data();\n",
    "    const double* c = c_numpy.data();\n",
    "    double* output = output_numpy.mutable_data();\n",
    "    for (int i = 0;  i < output_numpy.size();  i++) {\n",
    "        output[i] = (-b[i] + sqrt(b[i]*b[i] - 4*a[i]*c[i])) / (2*a[i]);\n",
    "    }\n",
    "}\n",
    "\n",
    "PYBIND11_MODULE(quadratic_formula_pybind11, m) {\n",
    "    m.def(\"run\", &run);\n",
    "}"
   ]
  },
  {
   "cell_type": "code",
   "execution_count": null,
   "id": "d70e7d3e-7206-4545-8aea-012fd1cd7d41",
   "metadata": {},
   "outputs": [],
   "source": [
    "import os\n",
    "import sys\n",
    "from pybind11 import get_include\n",
    "\n",
    "inc = \"-I \" + get_include()\n",
    "plat = \"-undefined dynamic_lookup\" if \"darwin\" in sys.platform else \"-fPIC\"\n",
    "pyinc = !python3-config --cflags"
   ]
  },
  {
   "cell_type": "code",
   "execution_count": null,
   "id": "a6942193-9d3b-41bf-ae1b-30a4fd22c595",
   "metadata": {},
   "outputs": [],
   "source": [
    "! c++ -std=c++11 quadratic_formula_pybind11.cpp -O3 -shared {inc} {pyinc.s} -o quadratic_formula_pybind11.so {plat}"
   ]
  },
  {
   "cell_type": "code",
   "execution_count": null,
   "id": "72c9d421-c661-4e26-a0d9-9c1542ef4cb8",
   "metadata": {},
   "outputs": [],
   "source": [
    "import quadratic_formula_pybind11"
   ]
  },
  {
   "cell_type": "code",
   "execution_count": null,
   "id": "72b7e329-0db5-4c86-a256-0e735a163c3b",
   "metadata": {},
   "outputs": [],
   "source": [
    "output = np.zeros(1000000)\n",
    "quadratic_formula_pybind11.run(a, b, c, output)\n",
    "output"
   ]
  },
  {
   "cell_type": "code",
   "execution_count": null,
   "id": "96d6e740-b320-453c-9db3-d08d01ab426a",
   "metadata": {},
   "outputs": [],
   "source": [
    "%%timeit\n",
    "\n",
    "output = np.zeros(1000000)\n",
    "quadratic_formula_pybind11.run(a, b, c, output)"
   ]
  },
  {
   "cell_type": "code",
   "execution_count": null,
   "id": "9b5a2a59-bd17-4739-a55e-c19f0c274455",
   "metadata": {},
   "outputs": [],
   "source": []
  },
  {
   "cell_type": "code",
   "execution_count": null,
   "id": "7e7b8e10-4e24-46de-a549-78fa7f1bbf1d",
   "metadata": {},
   "outputs": [],
   "source": []
  },
  {
   "cell_type": "code",
   "execution_count": null,
   "id": "88c07395-0407-4675-9fde-11bedd21741d",
   "metadata": {},
   "outputs": [],
   "source": []
  },
  {
   "cell_type": "markdown",
   "id": "83e5ec66-2257-405f-a8c0-0ee89bca74dc",
   "metadata": {},
   "source": [
    "**Important!** As usual with array-oriented programming, the essential thing is that the loop over big datasets is in the compiled code. What do you think will happen in the following?"
   ]
  },
  {
   "cell_type": "code",
   "execution_count": null,
   "id": "8f434adb-f893-4023-8a90-a02e182a4623",
   "metadata": {},
   "outputs": [],
   "source": [
    "%%writefile quadratic_formula_pybind11_noloop.cpp\n",
    "\n",
    "#include <pybind11/pybind11.h>\n",
    "namespace py = pybind11;\n",
    "\n",
    "double run(double a, double b, double c) {\n",
    "    return (-b + sqrt(b*b - 4*a*c)) / (2*a);\n",
    "}\n",
    "PYBIND11_MODULE(quadratic_formula_pybind11_noloop, m) {\n",
    "    m.def(\"run\", &run);\n",
    "}"
   ]
  },
  {
   "cell_type": "code",
   "execution_count": null,
   "id": "ab8f0cd3-8d9b-4700-a793-879c8c0f497e",
   "metadata": {},
   "outputs": [],
   "source": [
    "! c++ -std=c++11 quadratic_formula_pybind11_noloop.cpp -O3 -shared {inc} {pyinc.s} -o quadratic_formula_pybind11_noloop.so {plat}"
   ]
  },
  {
   "cell_type": "code",
   "execution_count": null,
   "id": "ed4ef85f-ac85-4e0a-95e2-08eba560f5f0",
   "metadata": {},
   "outputs": [],
   "source": [
    "import quadratic_formula_pybind11_noloop"
   ]
  },
  {
   "cell_type": "code",
   "execution_count": null,
   "id": "129ba4d3-a2c6-48cb-aa79-8bc350d75858",
   "metadata": {},
   "outputs": [],
   "source": [
    "%%timeit -r1 -n1\n",
    "\n",
    "output = np.zeros(1000000)\n",
    "for i in range(len(output)):\n",
    "    output[i] = quadratic_formula_pybind11_noloop.run(a[i], b[i], c[i])"
   ]
  },
  {
   "cell_type": "code",
   "execution_count": null,
   "id": "d735be47-c645-4c39-90f7-d03912df5604",
   "metadata": {},
   "outputs": [],
   "source": []
  },
  {
   "cell_type": "code",
   "execution_count": null,
   "id": "facbe9ef-97f1-4b02-aaf8-bd65dc2f4bbf",
   "metadata": {},
   "outputs": [],
   "source": []
  },
  {
   "cell_type": "code",
   "execution_count": null,
   "id": "836cce4b-da22-4dca-97a3-dd99d2e342b7",
   "metadata": {},
   "outputs": [],
   "source": []
  },
  {
   "cell_type": "markdown",
   "id": "1db08701-c9e3-45e9-b19e-c24c8b0aec12",
   "metadata": {},
   "source": [
    "### Numba"
   ]
  },
  {
   "cell_type": "code",
   "execution_count": null,
   "id": "a98fee5d-c935-4d28-980a-75d87d43e811",
   "metadata": {},
   "outputs": [],
   "source": [
    "@nb.jit\n",
    "def quadratic_formula_numba(a_array, b_array, c_array):\n",
    "    output = np.empty(len(a_array))\n",
    "    for i, (a, b, c) in enumerate(zip(a_array, b_array, c_array)):\n",
    "        output[i] = (-b + np.sqrt(b**2 - 4*a*c)) / (2*a)\n",
    "    return output"
   ]
  },
  {
   "cell_type": "code",
   "execution_count": null,
   "id": "c3888d36-c4ff-46de-b4d0-0d18f1ad1818",
   "metadata": {},
   "outputs": [],
   "source": [
    "quadratic_formula_numba(a, b, c)"
   ]
  },
  {
   "cell_type": "code",
   "execution_count": null,
   "id": "a461b8d7-cc9f-44dc-84ec-334c601661ff",
   "metadata": {},
   "outputs": [],
   "source": [
    "%%timeit\n",
    "\n",
    "quadratic_formula_numba(a, b, c)"
   ]
  },
  {
   "cell_type": "code",
   "execution_count": null,
   "id": "94bded88-62fb-46d3-ae25-e99cb742e53c",
   "metadata": {},
   "outputs": [],
   "source": []
  },
  {
   "cell_type": "code",
   "execution_count": null,
   "id": "c759eb38-8738-4424-8e60-c775393089fd",
   "metadata": {},
   "outputs": [],
   "source": []
  },
  {
   "cell_type": "code",
   "execution_count": null,
   "id": "21b15af8-23c9-4d43-86bb-fe51ccb6631b",
   "metadata": {},
   "outputs": [],
   "source": []
  },
  {
   "cell_type": "code",
   "execution_count": null,
   "id": "46566d82-c955-43c9-8960-86e3429d5fe6",
   "metadata": {
    "editable": true,
    "slideshow": {
     "slide_type": ""
    },
    "tags": [
     "raises-exception"
    ]
   },
   "outputs": [],
   "source": [
    "@nb.jit\n",
    "def f():\n",
    "    x = \"a string\"\n",
    "    for i in range(5):\n",
    "        if i == 0:\n",
    "            x = 0\n",
    "        x = x + 1\n",
    "    return x\n",
    "\n",
    "f()"
   ]
  },
  {
   "cell_type": "code",
   "execution_count": null,
   "id": "24e2e11d-a370-449a-9b20-33d1d86f1085",
   "metadata": {},
   "outputs": [],
   "source": [
    "@nb.jit\n",
    "def quadratic_formula_numba_on_arrays(a, b, c):\n",
    "    tmp1 = np.negative(b)            # -b\n",
    "    tmp2 = np.square(b)              # b**2\n",
    "    tmp3 = np.multiply(4, a)         # 4*a\n",
    "    tmp4 = np.multiply(tmp3, c)      # tmp3*c\n",
    "    tmp5 = np.subtract(tmp2, tmp4)   # tmp2 - tmp4\n",
    "    tmp6 = np.sqrt(tmp5)             # sqrt(tmp5)\n",
    "    tmp7 = np.add(tmp1, tmp6)        # tmp1 + tmp6\n",
    "    tmp8 = np.multiply(2, a)         # 2*a\n",
    "    return np.divide(tmp7, tmp8)     # tmp7 / tmp8\n",
    "\n",
    "quadratic_formula_numba_on_arrays(a, b, c)"
   ]
  },
  {
   "cell_type": "code",
   "execution_count": null,
   "id": "99a1d4ca-8db1-4cde-9098-ff47dd3fb574",
   "metadata": {},
   "outputs": [],
   "source": [
    "%%timeit\n",
    "\n",
    "quadratic_formula_numba_on_arrays(a, b, c)"
   ]
  },
  {
   "cell_type": "code",
   "execution_count": null,
   "id": "c535c12a-7c10-4d42-be15-f36c98844c4d",
   "metadata": {},
   "outputs": [],
   "source": []
  },
  {
   "cell_type": "code",
   "execution_count": null,
   "id": "c9353906-6c27-46f4-875f-2868ed674b70",
   "metadata": {},
   "outputs": [],
   "source": []
  },
  {
   "cell_type": "code",
   "execution_count": null,
   "id": "e0305ec7-e750-48ed-88c2-fc7bfc2c2291",
   "metadata": {},
   "outputs": [],
   "source": []
  },
  {
   "cell_type": "markdown",
   "id": "7a4e3b66-70bc-488a-913c-605823ad4f75",
   "metadata": {},
   "source": [
    "### Julia"
   ]
  },
  {
   "cell_type": "markdown",
   "id": "5063f44c-c3c4-4c3b-a7fb-22b5dffdd5b3",
   "metadata": {},
   "source": [
    "### JAX"
   ]
  },
  {
   "cell_type": "code",
   "execution_count": null,
   "id": "794fb330-6010-442f-8019-f51b731a40b9",
   "metadata": {},
   "outputs": [],
   "source": [
    "import jax\n",
    "jax.config.update(\"jax_platform_name\", \"cpu\")"
   ]
  },
  {
   "cell_type": "code",
   "execution_count": null,
   "id": "fe461ce0-74f5-425e-9ef3-8479245426b7",
   "metadata": {},
   "outputs": [],
   "source": [
    "@jax.jit\n",
    "def quadratic_formula_jax(a, b, c):\n",
    "    return (-b + jax.numpy.sqrt(b**2 - 4*a*c)) / (2*a)"
   ]
  },
  {
   "cell_type": "code",
   "execution_count": null,
   "id": "c724ebb2-8962-4062-8fb0-7a85a4a8ed41",
   "metadata": {},
   "outputs": [],
   "source": [
    "quadratic_formula_jax(a, b, c)"
   ]
  },
  {
   "cell_type": "code",
   "execution_count": null,
   "id": "b1c69d86-5b5b-4772-b9e0-4b5cb6181cd1",
   "metadata": {},
   "outputs": [],
   "source": [
    "%%timeit\n",
    "\n",
    "quadratic_formula_jax(a, b, c)"
   ]
  },
  {
   "cell_type": "code",
   "execution_count": null,
   "id": "4887c9e3-21e9-409e-bcd9-cc8732829e2c",
   "metadata": {},
   "outputs": [],
   "source": []
  },
  {
   "cell_type": "code",
   "execution_count": null,
   "id": "d79afd63-4f3e-42c5-898b-858bd3d84259",
   "metadata": {},
   "outputs": [],
   "source": []
  },
  {
   "cell_type": "code",
   "execution_count": null,
   "id": "9bcc0c20-ebdd-4272-8c53-2e384be8fc00",
   "metadata": {},
   "outputs": [],
   "source": []
  },
  {
   "cell_type": "code",
   "execution_count": null,
   "id": "4f524653-c951-470f-bba9-4827ad0126b8",
   "metadata": {},
   "outputs": [],
   "source": [
    "@jax.jit\n",
    "def quadratic_formula_jax_on_arrays(a, b, c):\n",
    "    tmp1 = jax.numpy.negative(b)            # -b\n",
    "    tmp2 = jax.numpy.square(b)              # b**2\n",
    "    tmp3 = jax.numpy.multiply(4, a)         # 4*a\n",
    "    tmp4 = jax.numpy.multiply(tmp3, c)      # tmp3*c\n",
    "    tmp5 = jax.numpy.subtract(tmp2, tmp4)   # tmp2 - tmp4\n",
    "    tmp6 = jax.numpy.sqrt(tmp5)             # sqrt(tmp5)\n",
    "    tmp7 = jax.numpy.add(tmp1, tmp6)        # tmp1 + tmp6\n",
    "    tmp8 = jax.numpy.multiply(2, a)         # 2*a\n",
    "    return jax.numpy.divide(tmp7, tmp8)     # tmp7 / tmp8\n",
    "\n",
    "quadratic_formula_jax_on_arrays(a, b, c)"
   ]
  },
  {
   "cell_type": "code",
   "execution_count": null,
   "id": "a92b67fc-9c0c-45b9-ab31-89dd5d5ab8e5",
   "metadata": {},
   "outputs": [],
   "source": [
    "%%timeit\n",
    "\n",
    "quadratic_formula_jax_on_arrays(a, b, c)"
   ]
  },
  {
   "cell_type": "code",
   "execution_count": null,
   "id": "cb723c35-8280-4ffc-af2c-c59aad702f40",
   "metadata": {},
   "outputs": [],
   "source": []
  },
  {
   "cell_type": "code",
   "execution_count": null,
   "id": "4eab452f-8c52-4bc5-8bee-c6821bbb3495",
   "metadata": {},
   "outputs": [],
   "source": []
  },
  {
   "cell_type": "code",
   "execution_count": null,
   "id": "0feffe59-2eec-40af-a123-59a678899907",
   "metadata": {},
   "outputs": [],
   "source": []
  },
  {
   "cell_type": "markdown",
   "id": "805d5d2c-236e-4c97-bcb5-b7a0975f84ab",
   "metadata": {},
   "source": [
    "### Dask"
   ]
  },
  {
   "cell_type": "code",
   "execution_count": null,
   "id": "8885503a-6106-4169-b54f-13c9cb94869a",
   "metadata": {},
   "outputs": [],
   "source": [
    "@dask.delayed\n",
    "def increment(i):\n",
    "    return i + 1\n",
    "\n",
    "@dask.delayed\n",
    "def add(a, b):\n",
    "    return a + b\n",
    "\n",
    "a, b = 1, 12\n",
    "c = increment(a)\n",
    "d = increment(b)\n",
    "output = add(c, d)\n",
    "\n",
    "output"
   ]
  },
  {
   "cell_type": "code",
   "execution_count": null,
   "id": "98eb67d7-7b51-4a6d-8367-d9738b7a433f",
   "metadata": {},
   "outputs": [],
   "source": [
    "output.compute()"
   ]
  },
  {
   "cell_type": "code",
   "execution_count": null,
   "id": "e700fd85-d098-4231-93be-9bfdb19b4f0a",
   "metadata": {},
   "outputs": [],
   "source": [
    "output.visualize()"
   ]
  },
  {
   "cell_type": "code",
   "execution_count": null,
   "id": "ffba2c79-7493-4df9-8410-98dfd26db814",
   "metadata": {},
   "outputs": [],
   "source": []
  },
  {
   "cell_type": "code",
   "execution_count": null,
   "id": "b16ee502-5787-4c45-a273-23c9467c1898",
   "metadata": {},
   "outputs": [],
   "source": []
  },
  {
   "cell_type": "code",
   "execution_count": null,
   "id": "ccefe0ce-df14-4673-8400-752e53d819c9",
   "metadata": {},
   "outputs": [],
   "source": []
  },
  {
   "cell_type": "code",
   "execution_count": null,
   "id": "a1820cb8-64ab-4f26-a51a-3e892e07b611",
   "metadata": {},
   "outputs": [],
   "source": [
    "a = da.random.uniform(5, 10, 1000000)\n",
    "b = da.random.uniform(10, 20, 1000000)\n",
    "c = da.random.uniform(-0.1, 0.1, 1000000)\n",
    "\n",
    "output = (-b + np.sqrt(b**2 - 4*a*c)) / (2*a)\n",
    "output"
   ]
  },
  {
   "cell_type": "code",
   "execution_count": null,
   "id": "be71f7b2-d894-4158-bfe0-d65cbfef3600",
   "metadata": {},
   "outputs": [],
   "source": [
    "output.visualize()"
   ]
  },
  {
   "cell_type": "code",
   "execution_count": null,
   "id": "2ab45118-eb6e-434f-95a6-b5123d39c3c9",
   "metadata": {},
   "outputs": [],
   "source": [
    "output.visualize(optimize_graph=True)"
   ]
  },
  {
   "cell_type": "code",
   "execution_count": null,
   "id": "f089455c-bfde-4048-842e-bf479c991dd9",
   "metadata": {},
   "outputs": [],
   "source": []
  },
  {
   "cell_type": "code",
   "execution_count": null,
   "id": "5f0f5b3d-04fb-41b9-bfec-d80644531ddc",
   "metadata": {},
   "outputs": [],
   "source": []
  },
  {
   "cell_type": "code",
   "execution_count": null,
   "id": "81b809ee-4064-4e6d-ac42-eafa7eae197b",
   "metadata": {},
   "outputs": [],
   "source": []
  },
  {
   "cell_type": "code",
   "execution_count": null,
   "id": "193a41c9-15d4-4e36-b5dd-e0328b2b346f",
   "metadata": {},
   "outputs": [],
   "source": [
    "@dask.delayed\n",
    "def start():\n",
    "    print(\"start\")\n",
    "    return 1\n",
    "\n",
    "@dask.delayed\n",
    "def concurrent(initial, i):\n",
    "    print(f\"begin {i}\")\n",
    "    time.sleep(np.random.uniform(0, 5))\n",
    "    print(f\"end {i}\")\n",
    "    return initial + i**2\n",
    "\n",
    "@dask.delayed\n",
    "def combine(partial_results):\n",
    "    print(\"combine\")\n",
    "    return sum(partial_results)\n",
    "\n",
    "initial = start()\n",
    "output = combine([concurrent(initial, i) for i in range(10)])"
   ]
  },
  {
   "cell_type": "code",
   "execution_count": null,
   "id": "0783759c-e503-412c-a641-4503850bdb56",
   "metadata": {},
   "outputs": [],
   "source": [
    "output.visualize()"
   ]
  },
  {
   "cell_type": "code",
   "execution_count": null,
   "id": "ffc6ef5d-bcaa-41e2-96a3-49c4141871f7",
   "metadata": {},
   "outputs": [],
   "source": [
    "output.compute()"
   ]
  },
  {
   "cell_type": "markdown",
   "id": "e23637d0-e0d6-418b-b2b0-2d30278eea0e",
   "metadata": {},
   "source": [
    "May be `\"synchronous\"`, `\"threads\"`, or `\"processes\"`."
   ]
  },
  {
   "cell_type": "code",
   "execution_count": null,
   "id": "d865aca1-0919-48c9-bed0-94d5c50c626b",
   "metadata": {},
   "outputs": [],
   "source": [
    "with dask.config.set(scheduler=\"synchronous\"):\n",
    "    output.compute()"
   ]
  },
  {
   "cell_type": "code",
   "execution_count": null,
   "id": "07932574-aa91-4495-a850-af91c685e804",
   "metadata": {},
   "outputs": [],
   "source": []
  },
  {
   "cell_type": "code",
   "execution_count": null,
   "id": "5f2ecca8-e15e-42db-b2da-e9b4196f0430",
   "metadata": {},
   "outputs": [],
   "source": []
  },
  {
   "cell_type": "code",
   "execution_count": null,
   "id": "a90b25d6-4da9-436c-9dbb-9cb44b57418e",
   "metadata": {},
   "outputs": [],
   "source": []
  },
  {
   "cell_type": "code",
   "execution_count": null,
   "id": "082caad0-056d-4aa7-a136-08723fcb62db",
   "metadata": {},
   "outputs": [],
   "source": [
    "a = da.random.uniform(5, 10, 1000000, chunks=200000)\n",
    "b = da.random.uniform(10, 20, 1000000, chunks=200000)\n",
    "c = da.random.uniform(-0.1, 0.1, 1000000, chunks=200000)\n",
    "\n",
    "output_array = (-b + np.sqrt(b**2 - 4*a*c)) / (2*a)\n",
    "output_array"
   ]
  },
  {
   "cell_type": "code",
   "execution_count": null,
   "id": "20882311-baca-4c4a-bad9-aae504d1360f",
   "metadata": {},
   "outputs": [],
   "source": [
    "output_array.visualize(optimize_graph=True)"
   ]
  },
  {
   "cell_type": "code",
   "execution_count": null,
   "id": "2cf9c908-863e-4eea-85c3-67a8e8eed777",
   "metadata": {},
   "outputs": [],
   "source": [
    "output_array.compute()"
   ]
  },
  {
   "cell_type": "code",
   "execution_count": null,
   "id": "7767b78d-9da4-498c-8d77-fb4b2c8baeda",
   "metadata": {},
   "outputs": [],
   "source": []
  },
  {
   "cell_type": "code",
   "execution_count": null,
   "id": "73481151-6bc4-4268-b9c5-57089521bcdb",
   "metadata": {},
   "outputs": [],
   "source": []
  },
  {
   "cell_type": "code",
   "execution_count": null,
   "id": "3deb3c8a-165d-4692-b501-4b09fe6b6cc5",
   "metadata": {},
   "outputs": [],
   "source": []
  },
  {
   "cell_type": "markdown",
   "id": "cbe3ace8-914d-4dd0-b095-bd0ceb87eb3a",
   "metadata": {},
   "source": [
    "### Dask clusters"
   ]
  },
  {
   "cell_type": "code",
   "execution_count": null,
   "id": "4f137566-5687-49d2-baee-fa119af38d0b",
   "metadata": {},
   "outputs": [],
   "source": [
    "scheduler = Popen([\"dask-scheduler\"], stdout=PIPE, stderr=PIPE, text=True)\n",
    "time.sleep(0.5)\n",
    "\n",
    "worker1 = Popen([\"dask\", \"worker\", \"--nthreads\", \"1\", \"127.0.0.1:8786\"], stdout=PIPE, stderr=PIPE, text=True)\n",
    "worker2 = Popen([\"dask\", \"worker\", \"--nthreads\", \"1\", \"127.0.0.1:8786\"], stdout=PIPE, stderr=PIPE, text=True)\n",
    "worker3 = Popen([\"dask\", \"worker\", \"--nthreads\", \"1\", \"127.0.0.1:8786\"], stdout=PIPE, stderr=PIPE, text=True)\n",
    "time.sleep(0.5)"
   ]
  },
  {
   "cell_type": "code",
   "execution_count": null,
   "id": "b4995e6b-cf2b-42e0-a38c-42d2a73154ea",
   "metadata": {},
   "outputs": [
    {
     "name": "stderr",
     "output_type": "stream",
     "text": [
      "2025-01-08 18:31:15,129 - distributed.client - ERROR - Failed to reconnect to scheduler after 30.00 seconds, closing client\n"
     ]
    }
   ],
   "source": [
    "client = dask.distributed.Client(\"127.0.0.1:8786\")\n",
    "client"
   ]
  },
  {
   "cell_type": "code",
   "execution_count": null,
   "id": "5d477e6c-c228-49e6-a95e-a2bca1f5b3aa",
   "metadata": {},
   "outputs": [],
   "source": [
    "output.compute()"
   ]
  },
  {
   "cell_type": "code",
   "execution_count": null,
   "id": "f0e6c8a5-4ab2-470c-8b77-ed7200e361dc",
   "metadata": {},
   "outputs": [],
   "source": [
    "time.sleep(0.5)\n",
    "worker1.terminate()\n",
    "worker2.terminate()\n",
    "worker3.terminate()\n",
    "\n",
    "time.sleep(0.5)\n",
    "scheduler.terminate()"
   ]
  },
  {
   "cell_type": "code",
   "execution_count": null,
   "id": "7b349ee7-afe1-4ce5-b8d7-7cc7433f298e",
   "metadata": {},
   "outputs": [],
   "source": [
    "stdout, stderr = scheduler.communicate()\n",
    "\n",
    "stdout1, stderr1 = worker1.communicate()\n",
    "stdout2, stderr2 = worker2.communicate()\n",
    "stdout3, stderr3 = worker3.communicate()"
   ]
  },
  {
   "cell_type": "code",
   "execution_count": null,
   "id": "dd1e7187-336e-4e13-9536-5bb1fd329717",
   "metadata": {},
   "outputs": [],
   "source": []
  },
  {
   "cell_type": "code",
   "execution_count": null,
   "id": "cce95997-aacb-43a1-ad88-7de112539ff7",
   "metadata": {},
   "outputs": [],
   "source": []
  },
  {
   "cell_type": "code",
   "execution_count": null,
   "id": "4f998486-9fc0-46c4-9ca8-a6d556582e35",
   "metadata": {},
   "outputs": [],
   "source": []
  },
  {
   "cell_type": "markdown",
   "id": "e7fc0085-2708-4599-975c-fb8284d5a7c9",
   "metadata": {},
   "source": [
    "### Dask collections"
   ]
  },
  {
   "cell_type": "code",
   "execution_count": null,
   "id": "0e0f1e4a-6719-4e47-92c3-68fb52c6367b",
   "metadata": {},
   "outputs": [],
   "source": [
    "dataset_hdf5 = h5py.File(\"data/SMHiggsToZZTo4L.h5\")\n",
    "\n",
    "pt1 = da.from_array(dataset_hdf5[\"ee_mumu\"][\"e1\"][\"pt\"], chunks=10000)\n",
    "phi1 = da.from_array(dataset_hdf5[\"ee_mumu\"][\"e1\"][\"phi\"], chunks=10000)\n",
    "eta1 = da.from_array(dataset_hdf5[\"ee_mumu\"][\"e1\"][\"eta\"], chunks=10000)\n",
    "pt2 = da.from_array(dataset_hdf5[\"ee_mumu\"][\"e2\"][\"pt\"], chunks=10000)\n",
    "phi2 = da.from_array(dataset_hdf5[\"ee_mumu\"][\"e2\"][\"phi\"], chunks=10000)\n",
    "eta2 = da.from_array(dataset_hdf5[\"ee_mumu\"][\"e2\"][\"eta\"], chunks=10000)"
   ]
  },
  {
   "cell_type": "code",
   "execution_count": null,
   "id": "0528eb32-b709-4d72-a438-ff695ed1131f",
   "metadata": {},
   "outputs": [],
   "source": [
    "mass = np.sqrt(2*pt1*pt2*(np.cosh(eta1 - eta2) - np.cos(phi1 - phi2)))\n",
    "mass"
   ]
  },
  {
   "cell_type": "code",
   "execution_count": null,
   "id": "0973b33f-5a50-458d-af34-aa002a5f585b",
   "metadata": {},
   "outputs": [],
   "source": [
    "with dask.config.set(scheduler=\"threads\"):\n",
    "    Hist.new.Reg(120, 0, 120, name=\"dimuon mass\").Double().fill(\n",
    "        mass.compute()\n",
    "    ).plot();"
   ]
  },
  {
   "cell_type": "code",
   "execution_count": null,
   "id": "9b368090-2c75-46f7-87dd-8cb6a7d59fb5",
   "metadata": {},
   "outputs": [],
   "source": []
  },
  {
   "cell_type": "code",
   "execution_count": null,
   "id": "40fad508-8512-46fb-8c7a-b4672a14e3b0",
   "metadata": {},
   "outputs": [],
   "source": []
  },
  {
   "cell_type": "code",
   "execution_count": null,
   "id": "04e0d5f2-617e-4642-9012-83e722d1be0d",
   "metadata": {},
   "outputs": [],
   "source": []
  },
  {
   "cell_type": "code",
   "execution_count": null,
   "id": "3979b0dc-a91a-47c3-9245-ba9360420184",
   "metadata": {},
   "outputs": [],
   "source": [
    "events = uproot.dask(\"data/SMHiggsToZZTo4L.root\")\n",
    "events"
   ]
  },
  {
   "cell_type": "code",
   "execution_count": null,
   "id": "9a5f77d6-914c-4c8f-b3b2-79aea37ff655",
   "metadata": {},
   "outputs": [],
   "source": [
    "selected = events[ak.num(events.Electron_pt) == 2]\n",
    "\n",
    "pt1 = selected.Electron_pt[:, 0]\n",
    "phi1 = selected.Electron_phi[:, 0]\n",
    "eta1 = selected.Electron_eta[:, 0]\n",
    "pt2 = selected.Electron_pt[:, 1]\n",
    "phi2 = selected.Electron_phi[:, 1]\n",
    "eta2 = selected.Electron_eta[:, 1]\n",
    "\n",
    "mass = np.sqrt(2*pt1*pt2*(np.cosh(eta1 - eta2) - np.cos(phi1 - phi2)))\n",
    "mass"
   ]
  },
  {
   "cell_type": "code",
   "execution_count": null,
   "id": "7b61b31d-2a72-434a-a8d0-b0f1fdaaec39",
   "metadata": {},
   "outputs": [],
   "source": [
    "with dask.config.set(scheduler=\"threads\"):\n",
    "    Hist.new.Reg(120, 0, 120, name=\"dimuon mass\").Double().fill(\n",
    "        mass.compute()\n",
    "    ).plot();"
   ]
  },
  {
   "cell_type": "code",
   "execution_count": null,
   "id": "c2f7f532-1ad0-4f7c-9057-31df96e2e958",
   "metadata": {},
   "outputs": [],
   "source": []
  },
  {
   "cell_type": "code",
   "execution_count": null,
   "id": "44555f0c-3d23-4160-87a0-024707a76428",
   "metadata": {},
   "outputs": [],
   "source": []
  },
  {
   "cell_type": "code",
   "execution_count": null,
   "id": "b8ae69c7-145c-4a62-a08d-d3c091ff4be3",
   "metadata": {},
   "outputs": [],
   "source": []
  }
 ],
 "metadata": {
  "kernelspec": {
   "display_name": "Python 3 (ipykernel)",
   "language": "python",
   "name": "python3"
  },
  "language_info": {
   "codemirror_mode": {
    "name": "ipython",
    "version": 3
   },
   "file_extension": ".py",
   "mimetype": "text/x-python",
   "name": "python",
   "nbconvert_exporter": "python",
   "pygments_lexer": "ipython3",
   "version": "3.11.11"
  }
 },
 "nbformat": 4,
 "nbformat_minor": 5
}
