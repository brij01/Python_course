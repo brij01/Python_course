{
 "cells": [
  {
   "cell_type": "markdown",
   "id": "bf9a6bae-0cc0-43d2-b8c8-273a68ab22d5",
   "metadata": {},
   "source": [
    "# Lesson 2: Array-oriented programming (workbook)"
   ]
  },
  {
   "cell_type": "markdown",
   "id": "b2b0ceba-ddb3-4ece-8574-33037474b0d6",
   "metadata": {
    "editable": true,
    "slideshow": {
     "slide_type": ""
    },
    "tags": []
   },
   "source": [
    "Import statements: run these first."
   ]
  },
  {
   "cell_type": "code",
   "execution_count": null,
   "id": "5cbf12b4-3bc6-4c04-b3ae-6bb801be0e10",
   "metadata": {},
   "outputs": [],
   "source": [
    "# Python standard library\n",
    "from functools import reduce\n",
    "from itertools import combinations\n",
    "import dis\n",
    "\n",
    "# Scientific Python ecosystem\n",
    "import numpy as np\n",
    "import matplotlib.pyplot as plt\n",
    "from matplotlib import animation\n",
    "from IPython.display import HTML\n",
    "from pympler.tracker import SummaryTracker"
   ]
  },
  {
   "cell_type": "markdown",
   "id": "a7d89030-352d-47b9-8bc8-8c70d105b3d2",
   "metadata": {},
   "source": [
    "All of the mini-quizzes in this lesson come from [Array-oriented puzzles](https://github.com/hsf-training/array-oriented-puzzles), which has more challenging exercises as well, if you want to test your skills."
   ]
  },
  {
   "cell_type": "code",
   "execution_count": null,
   "id": "1a7d5632-9fce-4a7a-b038-baa10e09b8ae",
   "metadata": {},
   "outputs": [],
   "source": []
  },
  {
   "cell_type": "code",
   "execution_count": null,
   "id": "795e3e35-fc54-41c8-a434-ae2433a40957",
   "metadata": {},
   "outputs": [],
   "source": []
  },
  {
   "cell_type": "code",
   "execution_count": null,
   "id": "056d4a07-123e-4694-b128-6d16546354dc",
   "metadata": {},
   "outputs": [],
   "source": []
  },
  {
   "cell_type": "markdown",
   "id": "d80a628f-a29c-40f9-8ab0-fccb7d38deca",
   "metadata": {},
   "source": [
    "## Complex example of imperative, functional, and array-oriented"
   ]
  },
  {
   "cell_type": "code",
   "execution_count": null,
   "id": "60656710-2972-4490-8b29-551251bffe88",
   "metadata": {},
   "outputs": [],
   "source": [
    "def imperative_forces(m, x, p):\n",
    "    total_force = np.zeros_like(x)\n",
    "\n",
    "    for i in range(len(x)):\n",
    "        for j in range(i + 1, len(x)):\n",
    "            mi, mj = m[i], m[j]\n",
    "            xi, xj = x[i], x[j]\n",
    "            pi, pj = p[i], p[j]\n",
    "            displacement = [\n",
    "                xj[0] - xi[0],\n",
    "                xj[1] - xi[1],\n",
    "                xj[2] - xi[2],\n",
    "            ]\n",
    "            distance = np.sqrt(displacement[0]**2 + displacement[1]**2 + displacement[2]**2)\n",
    "            direction = [\n",
    "                displacement[0] / distance,\n",
    "                displacement[1] / distance,\n",
    "                displacement[2] / distance,\n",
    "            ]\n",
    "            force = [\n",
    "                G * mi * mj * direction[0] / distance**2,\n",
    "                G * mi * mj * direction[1] / distance**2,\n",
    "                G * mi * mj * direction[2] / distance**2,\n",
    "            ]\n",
    "            total_force[i, 0] += force[0]\n",
    "            total_force[i, 1] += force[1]\n",
    "            total_force[i, 2] += force[2]\n",
    "            total_force[j, 0] += -force[0]\n",
    "            total_force[j, 1] += -force[1]\n",
    "            total_force[j, 2] += -force[2]\n",
    "\n",
    "    return total_force"
   ]
  },
  {
   "cell_type": "code",
   "execution_count": null,
   "id": "16802eb4-41cb-474f-bcfd-09ad9d69b647",
   "metadata": {},
   "outputs": [],
   "source": [
    "def functional_forces(m, x, p):\n",
    "    def negate(vector):\n",
    "        return [-a for a in vector]\n",
    "\n",
    "    def add(*vectors):\n",
    "        return [reduce(lambda a, b: a + b, components) for components in zip(*vectors)]\n",
    "\n",
    "    def subtract(vectorA, vectorB):\n",
    "        return add(vectorA, negate(vectorB))\n",
    "\n",
    "    def magnitude(vector):\n",
    "        return np.sqrt(reduce(lambda a, b: a + b, map(lambda a: a**2, vector)))\n",
    "\n",
    "    def force(mi, mj, xi, xj, pi, pj):\n",
    "        displacement = subtract(xi, xj)\n",
    "        distance = magnitude(displacement)\n",
    "        direction = [a / distance for a in displacement]\n",
    "        return [G * mi * mj * a / distance**2 for a in direction]\n",
    "\n",
    "    pairwise_forces = [\n",
    "        ((i, j), force(mi, mj, xi, xj, pi, pj))\n",
    "        for ((i, (mi, xi, pi)), (j, (mj, xj, pj))) in combinations(enumerate(zip(m, x, p)), 2)\n",
    "    ]\n",
    "\n",
    "    def partial_forces(pairwise_forces, i):\n",
    "        return (\n",
    "            [force for (_, check), force in pairwise_forces if i == check] +\n",
    "            [negate(force) for (check, _), force in pairwise_forces if i == check]\n",
    "        )\n",
    "\n",
    "    return np.array([add(*partial_forces(pairwise_forces, i)) for i in range(len(m))])"
   ]
  },
  {
   "cell_type": "code",
   "execution_count": null,
   "id": "9e33d06e-e78d-4e3d-b957-8a59d4bd7415",
   "metadata": {},
   "outputs": [],
   "source": [
    "def array_forces(m, x, p):\n",
    "    i, j = np.triu_indices(len(x), k=1)\n",
    "    pw_displacement = x[j] - x[i]\n",
    "    pw_distance = np.sqrt(np.sum(pw_displacement**2, axis=-1))\n",
    "    pw_direction = pw_displacement / pw_distance[:, np.newaxis]\n",
    "    pw_force = G * m[i, np.newaxis] * m[j, np.newaxis] * pw_direction / pw_distance[:, np.newaxis]**2\n",
    "    total_force = np.zeros_like(x)\n",
    "    np.add.at(total_force, i, pw_force)\n",
    "    np.add.at(total_force, j, -pw_force)\n",
    "    return total_force"
   ]
  },
  {
   "cell_type": "code",
   "execution_count": null,
   "id": "35178329-47e0-44c9-b818-13f90460def3",
   "metadata": {},
   "outputs": [],
   "source": [
    "# three masses\n",
    "m = np.array([2, 10, 1.1])\n",
    "\n",
    "# initial position (x) and momentum (p) for each of the three\n",
    "x = np.array([[0.1, 0.1, 0], [2, 0.9, 0.1], [-5, 1.5, -0.1]])\n",
    "p = np.array([[3, -1, 0.5], [-13, 0, -0.2], [-10, 0.1, 0]])\n",
    "\n",
    "G = 1"
   ]
  },
  {
   "cell_type": "code",
   "execution_count": null,
   "id": "d8a330db-7630-435f-94b2-40ec252493a8",
   "metadata": {},
   "outputs": [],
   "source": [
    "imperative_forces(m, x, p)"
   ]
  },
  {
   "cell_type": "code",
   "execution_count": null,
   "id": "7b8c2f1e-33a2-4fc7-8502-07646c39abbe",
   "metadata": {},
   "outputs": [],
   "source": [
    "functional_forces(m, x, p)"
   ]
  },
  {
   "cell_type": "code",
   "execution_count": null,
   "id": "c9d4fae8-c975-4453-b584-6384f99e6c7f",
   "metadata": {},
   "outputs": [],
   "source": [
    "array_forces(m, x, p)"
   ]
  },
  {
   "cell_type": "code",
   "execution_count": null,
   "id": "966f6581-e1c6-4d5e-9e21-15c61de737df",
   "metadata": {},
   "outputs": [],
   "source": []
  },
  {
   "cell_type": "code",
   "execution_count": null,
   "id": "3c41cdfb-0282-43bc-866c-dbea0d48a7c9",
   "metadata": {},
   "outputs": [],
   "source": []
  },
  {
   "cell_type": "code",
   "execution_count": null,
   "id": "e01642ec-5038-48f7-9442-65fb90d80ee8",
   "metadata": {},
   "outputs": [],
   "source": []
  },
  {
   "cell_type": "code",
   "execution_count": null,
   "id": "9226da5d-31e4-472e-92be-5762f2b3fb48",
   "metadata": {},
   "outputs": [],
   "source": [
    "m = np.ones(500)\n",
    "x = np.random.normal(0, 1, (500, 3))\n",
    "p = np.random.normal(0, 1, (500, 3))"
   ]
  },
  {
   "cell_type": "code",
   "execution_count": null,
   "id": "1eaa6c62-bcaf-488b-af9a-aa532e156db4",
   "metadata": {},
   "outputs": [],
   "source": [
    "%%timeit -n1 -r1\n",
    "\n",
    "imperative_forces(m, x, p)"
   ]
  },
  {
   "cell_type": "code",
   "execution_count": null,
   "id": "c53d9b89-d058-4c49-b8e1-23beebfc5c67",
   "metadata": {},
   "outputs": [],
   "source": [
    "%%timeit -n1 -r1\n",
    "\n",
    "functional_forces(m, x, p)"
   ]
  },
  {
   "cell_type": "code",
   "execution_count": null,
   "id": "5d93c083-011d-4af0-99a4-4ae3a2d46ec1",
   "metadata": {},
   "outputs": [],
   "source": [
    "%%timeit -n1 -r1\n",
    "\n",
    "array_forces(m, x, p)"
   ]
  },
  {
   "cell_type": "code",
   "execution_count": null,
   "id": "2d577961-2139-4458-9b41-ad34d7b62439",
   "metadata": {},
   "outputs": [],
   "source": []
  },
  {
   "cell_type": "code",
   "execution_count": null,
   "id": "7170d3ce-bbb6-438b-9c5c-ff4191828148",
   "metadata": {},
   "outputs": [],
   "source": []
  },
  {
   "cell_type": "code",
   "execution_count": null,
   "id": "bad39e62-8f0a-4ea6-95e9-6de5d5f949f6",
   "metadata": {},
   "outputs": [],
   "source": []
  },
  {
   "cell_type": "code",
   "execution_count": null,
   "id": "f61ecf69-8bfa-4bf9-bbe5-c269fab2f880",
   "metadata": {},
   "outputs": [],
   "source": [
    "def array_step(m, x, p, dt):\n",
    "    # this is a numerically stable way of updating positions, momenta, and forces\n",
    "    p += array_forces(m, x, p) * (dt/2)    # half kick\n",
    "    x += p * dt / m[:, np.newaxis]         # full drift\n",
    "    p += array_forces(m, x, p) * (dt/2)    # half kick"
   ]
  },
  {
   "cell_type": "code",
   "execution_count": null,
   "id": "67b51d1a-2b05-4091-8da5-e0c1b41c9147",
   "metadata": {},
   "outputs": [],
   "source": [
    "def plot(m, x, p, dt, num_frames=100, steps_per_frame=10):\n",
    "    num_particles = len(m)\n",
    "\n",
    "    history = np.empty((num_frames, num_particles, 2))\n",
    "    for i in range(num_frames):\n",
    "        history[i, :, 0] = x[:, 0]\n",
    "        history[i, :, 1] = x[:, 1]\n",
    "        for _ in range(steps_per_frame):\n",
    "            array_step(m, x, p, dt)\n",
    "\n",
    "    fig, ax = plt.subplots(figsize=(5, 5))\n",
    "\n",
    "    lines = []\n",
    "    for j in range(num_particles):\n",
    "        lines.append(ax.plot(history[:1, j, 0], history[:1, j, 1])[0])\n",
    "    dots = ax.scatter(history[0, :, 0], history[0, :, 1])\n",
    "\n",
    "    ax.set_xlim(-2, 2)\n",
    "    ax.set_ylim(-2, 2)\n",
    "\n",
    "    def update(i):\n",
    "        for j, line in enumerate(lines):\n",
    "            line.set_xdata(history[:i, j, 0])\n",
    "            line.set_ydata(history[:i, j, 1])\n",
    "        dots.set_offsets(history[i, :, :])\n",
    "        return [*lines, dots]\n",
    "\n",
    "    ani = animation.FuncAnimation(fig=fig, func=update, frames=num_frames, interval=50, blit=True)\n",
    "    out = HTML(ani.to_jshtml())\n",
    "    plt.close()\n",
    "    return out"
   ]
  },
  {
   "cell_type": "markdown",
   "id": "f5923482-9c70-4c07-a35e-50bc76d7c7d5",
   "metadata": {},
   "source": [
    "Double-planet orbits a star:"
   ]
  },
  {
   "cell_type": "code",
   "execution_count": null,
   "id": "80809117-6710-4d99-bc58-820fb934156e",
   "metadata": {},
   "outputs": [],
   "source": [
    "m = np.array([100, 1, 1], np.float64)\n",
    "x = np.array([[0, 0, 0], [0, 0.9, 0], [0, 1.1, 0]], np.float64)\n",
    "p = np.array([[0, 0, 0], [-13, 0, 0], [-10, 0, 0]], np.float64)\n",
    "\n",
    "plot(m, x, p, dt=0.001)"
   ]
  },
  {
   "cell_type": "markdown",
   "id": "477d5463-9767-4316-b51d-35160a92338d",
   "metadata": {},
   "source": [
    "Solution to the three-body problem!"
   ]
  },
  {
   "cell_type": "code",
   "execution_count": null,
   "id": "1524fa7e-e736-4cab-8748-863d4c0859e7",
   "metadata": {},
   "outputs": [],
   "source": [
    "a = 0.347111\n",
    "b = 0.532728\n",
    "m = np.array([1, 1, 1], np.float64)\n",
    "x = np.array([[-1, 0, 0], [1, 0, 0], [0, 0, 0]], np.float64)\n",
    "p = np.array([[a, b, 0], [a, b, 0], [-2 * a, -2 * b, 0]], np.float64)\n",
    "\n",
    "plot(m, x, p, dt=0.01)"
   ]
  },
  {
   "cell_type": "markdown",
   "id": "73806c03-d96e-4aa9-8307-36c7727c9123",
   "metadata": {},
   "source": [
    "Chaos!"
   ]
  },
  {
   "cell_type": "code",
   "execution_count": null,
   "id": "843b6ce3-9c4c-49c2-bdc6-a6fba5bb5d8a",
   "metadata": {},
   "outputs": [],
   "source": [
    "m = np.ones(25)\n",
    "x = np.random.normal(0, 1, (25, 3))\n",
    "p = np.random.normal(0, 1, (25, 3))\n",
    "\n",
    "plot(m, x, p, dt=0.0025)"
   ]
  },
  {
   "cell_type": "code",
   "execution_count": null,
   "id": "5dec2e99-a738-4f92-9d51-cd74586dc2a5",
   "metadata": {},
   "outputs": [],
   "source": []
  },
  {
   "cell_type": "code",
   "execution_count": null,
   "id": "21af3cc4-7208-4f73-82c5-8c1319cffee9",
   "metadata": {},
   "outputs": [],
   "source": []
  },
  {
   "cell_type": "code",
   "execution_count": null,
   "id": "af37e3fd-de7b-48fe-afde-ea584a691cca",
   "metadata": {},
   "outputs": [],
   "source": []
  },
  {
   "cell_type": "markdown",
   "id": "5074fa24-a278-42ec-bc98-da9ff45cac65",
   "metadata": {},
   "source": [
    "## Example of an array-oriented conversation"
   ]
  },
  {
   "cell_type": "code",
   "execution_count": null,
   "id": "cddb6e4d-f93b-4e81-a8ac-57735c01a5fa",
   "metadata": {},
   "outputs": [],
   "source": [
    "dataset = np.random.normal(0, 1, 1000000)  # one MILLION data points"
   ]
  },
  {
   "cell_type": "code",
   "execution_count": null,
   "id": "4556ecf7-e6c5-432b-9c0c-f0d575c593e3",
   "metadata": {},
   "outputs": [],
   "source": [
    "plt.hist(dataset, bins=100, range=(-5, 5));"
   ]
  },
  {
   "cell_type": "code",
   "execution_count": null,
   "id": "426f2034-8148-462e-bbc5-92ef79cb8b68",
   "metadata": {},
   "outputs": [],
   "source": [
    "dataset2 = dataset**2"
   ]
  },
  {
   "cell_type": "code",
   "execution_count": null,
   "id": "f0647a24-05d9-4a4f-8f74-4742382294be",
   "metadata": {},
   "outputs": [],
   "source": [
    "plt.hist(dataset2, bins=100, range=(-5, 5));"
   ]
  },
  {
   "cell_type": "code",
   "execution_count": null,
   "id": "463a3751-e454-4e6c-b572-06f49ea64a26",
   "metadata": {},
   "outputs": [],
   "source": [
    "dataset3 = np.sin(1/dataset2)"
   ]
  },
  {
   "cell_type": "code",
   "execution_count": null,
   "id": "6afd1048-72cf-43af-8491-cc55105c7205",
   "metadata": {},
   "outputs": [],
   "source": [
    "plt.hist(dataset3, bins=100, range=(-1, 1));"
   ]
  },
  {
   "cell_type": "code",
   "execution_count": null,
   "id": "9cdd8627-8018-4ea6-b970-6d79da46c351",
   "metadata": {},
   "outputs": [],
   "source": []
  },
  {
   "cell_type": "code",
   "execution_count": null,
   "id": "f67aea3d-a61e-433e-9855-539e56763958",
   "metadata": {},
   "outputs": [],
   "source": []
  },
  {
   "cell_type": "code",
   "execution_count": null,
   "id": "981f994f-ac64-4eec-b640-bef8f41e2736",
   "metadata": {},
   "outputs": [],
   "source": []
  },
  {
   "cell_type": "markdown",
   "id": "8c14a8c5-7bc4-4ef4-9fab-657cca74b651",
   "metadata": {},
   "source": [
    "## NumPy features"
   ]
  },
  {
   "cell_type": "markdown",
   "id": "76556671-33e7-4528-98a8-e7249ebdaeee",
   "metadata": {},
   "source": [
    "<img src=\"img/Numpy_Python_Cheat_Sheet.svg\" width=\"100%\">"
   ]
  },
  {
   "cell_type": "markdown",
   "id": "79937e61-eaae-4635-9902-2b9e87e20d92",
   "metadata": {},
   "source": [
    "### Slicing"
   ]
  },
  {
   "cell_type": "code",
   "execution_count": null,
   "id": "66d65d98-7f5c-4b4d-a236-eca6bf24c59a",
   "metadata": {},
   "outputs": [],
   "source": [
    "arr = np.array([[1.1, 2.2, 3.3],\n",
    "                [4.4, 5.5, 6.6],\n",
    "                [7.7, 8.8, 9.9]])\n",
    "arr"
   ]
  },
  {
   "cell_type": "code",
   "execution_count": null,
   "id": "848d3465-118b-45ba-919d-3a3db2f84367",
   "metadata": {},
   "outputs": [],
   "source": []
  },
  {
   "cell_type": "code",
   "execution_count": null,
   "id": "6505575f-de42-4fc9-8831-d7b47ccf5693",
   "metadata": {},
   "outputs": [],
   "source": []
  },
  {
   "cell_type": "code",
   "execution_count": null,
   "id": "c6a7204b-288f-4fc6-80fc-d1d32dbbf39e",
   "metadata": {},
   "outputs": [],
   "source": []
  },
  {
   "cell_type": "markdown",
   "id": "f6e607f3-0f57-4c65-a83d-f074ef7b5d11",
   "metadata": {},
   "source": [
    "**Mini-quiz 1:** Given this 3D array,"
   ]
  },
  {
   "cell_type": "code",
   "execution_count": null,
   "id": "b95620a4-b01d-43fc-9621-786fdda537bd",
   "metadata": {},
   "outputs": [],
   "source": [
    "array3d = np.arange(2 * 3 * 5).reshape(2, 3, 5)\n",
    "array3d"
   ]
  },
  {
   "cell_type": "markdown",
   "id": "2188b537-e0dc-4dc2-becb-064b4dea9119",
   "metadata": {},
   "source": [
    "you can select items\n",
    "\n",
    "<img src=\"img/array3d-highlight1.svg\" width=\"25%\">\n",
    "\n",
    "with"
   ]
  },
  {
   "cell_type": "code",
   "execution_count": null,
   "id": "60067696-0f8b-4e9a-afa3-098bec9287df",
   "metadata": {},
   "outputs": [],
   "source": [
    "array3d[:, 1:, 1:]"
   ]
  },
  {
   "cell_type": "markdown",
   "id": "d11473e5-675d-4f94-b405-bb560f10ab04",
   "metadata": {},
   "source": [
    "Write a slice that selects these elements:\n",
    "\n",
    "<img src=\"img/array3d-highlight2.svg\" width=\"25%\">"
   ]
  },
  {
   "cell_type": "code",
   "execution_count": null,
   "id": "4d760236-923a-4026-8044-7430dfb5503d",
   "metadata": {},
   "outputs": [],
   "source": []
  },
  {
   "cell_type": "code",
   "execution_count": null,
   "id": "2f8f7cc6-9934-4734-8987-e8b4f51255bf",
   "metadata": {},
   "outputs": [],
   "source": []
  },
  {
   "cell_type": "code",
   "execution_count": null,
   "id": "ab1e87e4-5e04-4ff0-a169-71131515cb05",
   "metadata": {},
   "outputs": [],
   "source": []
  },
  {
   "cell_type": "markdown",
   "id": "90ae652d-7d52-4679-b77e-001e38f76e6e",
   "metadata": {},
   "source": [
    "**Mini-quiz 2:** Use slicing and elementwise subtraction (`-`) together to find the sizes of the spaces between consecutive elements in the following array. (They're all `1.1`.)"
   ]
  },
  {
   "cell_type": "code",
   "execution_count": null,
   "id": "9501501e-c837-4487-b3b8-3243add587bf",
   "metadata": {},
   "outputs": [],
   "source": [
    "array = np.array([1.1, 2.2, 3.3, 4.4, 5.5, 6.6, 7.7, 8.8, 9.9])\n",
    "array"
   ]
  },
  {
   "cell_type": "markdown",
   "id": "4193bd58-4fd1-4b62-8a0d-5ae0f0d27750",
   "metadata": {},
   "source": [
    "Hint:\n",
    "\n",
    "<img src=\"img/flat-and-shifted-operations.svg\" width=\"100%\">"
   ]
  },
  {
   "cell_type": "code",
   "execution_count": null,
   "id": "3b77d591-ae1b-4c2c-afce-acf1974f4514",
   "metadata": {},
   "outputs": [],
   "source": []
  },
  {
   "cell_type": "code",
   "execution_count": null,
   "id": "caf2b3f6-eb47-4a99-923e-d03fada29f6e",
   "metadata": {},
   "outputs": [],
   "source": []
  },
  {
   "cell_type": "code",
   "execution_count": null,
   "id": "33bc48ba-62e5-47cc-904c-f3627a787cda",
   "metadata": {},
   "outputs": [],
   "source": []
  },
  {
   "cell_type": "markdown",
   "id": "ccceae7b-d61a-4782-9098-d74210094f7b",
   "metadata": {},
   "source": [
    "### Advanced slicing"
   ]
  },
  {
   "cell_type": "code",
   "execution_count": null,
   "id": "82ad16b0-a5ce-47d3-9f17-78e4bc34927c",
   "metadata": {},
   "outputs": [],
   "source": [
    "arr  = np.array([  0.0,   1.1,   2.2,   3.3,   4.4,  5.5,   6.6,  7.7,   8.8,  9.9])\n",
    "mask = np.array([False, False, False, False, False, True, False, True, False, True])\n",
    "#                                                    5.5          7.7          9.9"
   ]
  },
  {
   "cell_type": "code",
   "execution_count": null,
   "id": "859ffdef-2604-440f-987b-c3c76e42f982",
   "metadata": {},
   "outputs": [],
   "source": [
    "arr[mask]"
   ]
  },
  {
   "cell_type": "code",
   "execution_count": null,
   "id": "9e8a2429-fd1d-43c5-a650-b2bf918b4c85",
   "metadata": {},
   "outputs": [],
   "source": []
  },
  {
   "cell_type": "code",
   "execution_count": null,
   "id": "6e63904b-a173-406d-b151-c4c07a5cb46b",
   "metadata": {},
   "outputs": [],
   "source": []
  },
  {
   "cell_type": "code",
   "execution_count": null,
   "id": "87a2a24b-f0dd-422c-a51e-e1e43bc23ff1",
   "metadata": {},
   "outputs": [],
   "source": []
  },
  {
   "cell_type": "code",
   "execution_count": null,
   "id": "b3919db5-05d6-4b51-8781-ee9f2827b743",
   "metadata": {},
   "outputs": [],
   "source": [
    "text = \"\"\"\n",
    "WOULD YOU LIKE GREEN EGGS AND HAM?\n",
    "\n",
    "I DO NOT LIKE THEM, SAM-I-AM.\n",
    "I DO NOT LIKE GREEN EGGS AND HAM.\n",
    "\n",
    "WOULD YOU LIKE THEM HERE OR THERE?\n",
    "\n",
    "I WOULD NOT LIKE THEM HERE OR THERE.\n",
    "I WOULD NOT LIKE THEM ANYWHERE.\n",
    "I DO NOT LIKE GREEN EGGS AND HAM.\n",
    "I DO NOT LIKE THEM, SAM-I-AM.\n",
    "\n",
    "WOULD YOU LIKE THEM IN A HOUSE?\n",
    "WOULD YOU LIKE THEN WITH A MOUSE?\n",
    "\n",
    "I DO NOT LIKE THEM IN A HOUSE.\n",
    "I DO NOT LIKE THEM WITH A MOUSE.\n",
    "I DO NOT LIKE THEM HERE OR THERE.\n",
    "I DO NOT LIKE THEM ANYWHERE.\n",
    "I DO NOT LIKE GREEN EGGS AND HAM.\n",
    "I DO NOT LIKE THEM, SAM-I-AM.\n",
    "\n",
    "WOULD YOU EAT THEM IN A BOX?\n",
    "WOULD YOU EAT THEM WITH A FOX?\n",
    "\n",
    "NOT IN A BOX. NOT WITH A FOX.\n",
    "NOT IN A HOUSE. NOT WITH A MOUSE.\n",
    "I WOULD NOT EAT THEM HERE OR THERE.\n",
    "I WOULD NOT EAT THEM ANYWHERE.\n",
    "I WOULD NOT EAT GREEN EGGS AND HAM.\n",
    "I DO NOT LIKE THEM, SAM-I-AM.\n",
    "\"\"\""
   ]
  },
  {
   "cell_type": "code",
   "execution_count": null,
   "id": "8dbe5b8a-e563-4fee-b47d-2b024ede6418",
   "metadata": {},
   "outputs": [],
   "source": [
    "# remove punctuation and make an array of words\n",
    "words = np.array(text.replace(\",\", \" \").replace(\".\", \" \").replace(\"?\", \" \").replace(\"!\", \" \").replace(\"-\", \" \").split())\n",
    "\n",
    "# find the unique words and get an index of where they are in the corpus\n",
    "dictionary, index = np.unique(words, return_inverse=True)"
   ]
  },
  {
   "cell_type": "code",
   "execution_count": null,
   "id": "3a2f88df-ddc1-4dcb-8021-8b1b4bea8435",
   "metadata": {},
   "outputs": [],
   "source": []
  },
  {
   "cell_type": "code",
   "execution_count": null,
   "id": "26b05162-bce7-4c10-aade-6259b306d25d",
   "metadata": {},
   "outputs": [],
   "source": []
  },
  {
   "cell_type": "code",
   "execution_count": null,
   "id": "1582adac-1c44-4394-91d6-3367f3bccf4a",
   "metadata": {},
   "outputs": [],
   "source": []
  },
  {
   "cell_type": "markdown",
   "id": "e0b78789-880e-44d6-a5d3-31d73f005e52",
   "metadata": {},
   "source": [
    "### Reductions"
   ]
  },
  {
   "cell_type": "code",
   "execution_count": null,
   "id": "890943ba-529d-405c-ab75-10c4e643ff02",
   "metadata": {},
   "outputs": [],
   "source": [
    "arr = np.array([[  1,   2,   3,   4],\n",
    "                [ 10,  20,  30,  40],\n",
    "                [100, 200, 300, 400]])"
   ]
  },
  {
   "cell_type": "code",
   "execution_count": null,
   "id": "e89aa1c7-f300-4149-8459-b5886aae9105",
   "metadata": {},
   "outputs": [],
   "source": []
  },
  {
   "cell_type": "code",
   "execution_count": null,
   "id": "ce0fb56b-df2d-42a0-9621-eb2c06ec958a",
   "metadata": {},
   "outputs": [],
   "source": []
  },
  {
   "cell_type": "code",
   "execution_count": null,
   "id": "211a823f-e89e-43e6-b7fd-8410a538220f",
   "metadata": {},
   "outputs": [],
   "source": []
  },
  {
   "cell_type": "markdown",
   "id": "d2aea8ab-7a11-4eb8-9822-9cab2af54e37",
   "metadata": {},
   "source": [
    "**Mini-quiz 3:** Using slicing, elementwise operations, and a reducer, find the length of this curve.\n",
    "\n",
    "<img src=\"img/length-by-segment.svg\" width=\"50%\">"
   ]
  },
  {
   "cell_type": "code",
   "execution_count": null,
   "id": "5aad1280-b2d6-4e7a-9529-84b20b228cda",
   "metadata": {},
   "outputs": [],
   "source": [
    "t = np.linspace(0, 2*np.pi, 10000)\n",
    "x = np.sin(3*t)\n",
    "y = np.sin(4*t)"
   ]
  },
  {
   "cell_type": "code",
   "execution_count": null,
   "id": "10d678e5-38f8-49c7-b3c5-1529442076ad",
   "metadata": {},
   "outputs": [],
   "source": []
  },
  {
   "cell_type": "code",
   "execution_count": null,
   "id": "4996ab1d-1aed-4af6-8376-937d4d992ab0",
   "metadata": {},
   "outputs": [],
   "source": []
  },
  {
   "cell_type": "code",
   "execution_count": null,
   "id": "b43bfc68-b78f-455b-9e8c-eee5f4e33890",
   "metadata": {},
   "outputs": [],
   "source": []
  }
 ],
 "metadata": {
  "kernelspec": {
   "display_name": "Python 3 (ipykernel)",
   "language": "python",
   "name": "python3"
  },
  "language_info": {
   "codemirror_mode": {
    "name": "ipython",
    "version": 3
   },
   "file_extension": ".py",
   "mimetype": "text/x-python",
   "name": "python",
   "nbconvert_exporter": "python",
   "pygments_lexer": "ipython3",
   "version": "3.11.11"
  }
 },
 "nbformat": 4,
 "nbformat_minor": 5
}
