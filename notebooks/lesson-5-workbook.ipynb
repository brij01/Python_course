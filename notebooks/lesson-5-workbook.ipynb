{
 "cells": [
  {
   "cell_type": "markdown",
   "id": "b40d4a61-f28b-451c-83a5-59314627a7bf",
   "metadata": {},
   "source": [
    "# Lesson 5: Python on GPUs (workbook)"
   ]
  },
  {
   "cell_type": "code",
   "execution_count": null,
   "id": "a8ca260f-a642-47e2-a63c-21a3c85adfc0",
   "metadata": {},
   "outputs": [],
   "source": [
    "# Python standard library\n",
    "import math\n",
    "\n",
    "# Scientific Python ecosystem\n",
    "import numpy as np\n",
    "import cupy as cp\n",
    "import numba as nb\n",
    "import numba.cuda\n",
    "\n",
    "# Particle physics tools\n",
    "import awkward as ak\n",
    "import uproot"
   ]
  },
  {
   "cell_type": "code",
   "execution_count": null,
   "id": "8b548c8f-391d-4a37-8e48-43fbf252f17f",
   "metadata": {},
   "outputs": [],
   "source": []
  },
  {
   "cell_type": "code",
   "execution_count": null,
   "id": "27d1fc94-8578-48ef-8edf-609be9d478f6",
   "metadata": {},
   "outputs": [],
   "source": []
  },
  {
   "cell_type": "code",
   "execution_count": null,
   "id": "f1391d5e-8094-4fa1-b3e6-578bbec8ec92",
   "metadata": {},
   "outputs": [],
   "source": []
  },
  {
   "cell_type": "markdown",
   "id": "d62fbafe-69a6-4904-a77a-eb7c14f227d7",
   "metadata": {},
   "source": [
    "## CuPy"
   ]
  },
  {
   "cell_type": "code",
   "execution_count": null,
   "id": "9f5a0255-e7d3-46f4-82d9-f98054065a24",
   "metadata": {},
   "outputs": [],
   "source": [
    "array_in_ram = np.random.uniform(0, 1, 100000000)"
   ]
  },
  {
   "cell_type": "code",
   "execution_count": null,
   "id": "e294f265-fac2-4e55-b975-32eb535eaa20",
   "metadata": {},
   "outputs": [],
   "source": [
    "array_on_gpu = cp.asarray(array_in_ram)"
   ]
  },
  {
   "cell_type": "code",
   "execution_count": null,
   "id": "1ca9b1bf-ba9c-405a-be4e-39b9d276a9c2",
   "metadata": {},
   "outputs": [],
   "source": [
    "%%timeit -r1 -n10\n",
    "\n",
    "array_in_ram[:] += 1"
   ]
  },
  {
   "cell_type": "code",
   "execution_count": null,
   "id": "463c6f4c-446b-4021-a871-96b8dbbd9eb3",
   "metadata": {},
   "outputs": [],
   "source": [
    "%%timeit -r1 -n10\n",
    "\n",
    "array_on_gpu[:] += 1"
   ]
  },
  {
   "cell_type": "code",
   "execution_count": null,
   "id": "cb8a3ea9-ba02-4ca8-9e8e-e5cf317be8f4",
   "metadata": {},
   "outputs": [],
   "source": []
  },
  {
   "cell_type": "code",
   "execution_count": null,
   "id": "ab4121ec-7485-4c21-b0c1-cde1a333c6ab",
   "metadata": {},
   "outputs": [],
   "source": []
  },
  {
   "cell_type": "code",
   "execution_count": null,
   "id": "07288e3a-0bfd-4c53-809e-822a8175cfb9",
   "metadata": {},
   "outputs": [],
   "source": []
  },
  {
   "cell_type": "code",
   "execution_count": null,
   "id": "8b61a721-eb10-4c2b-8f60-0db5b5b519aa",
   "metadata": {},
   "outputs": [],
   "source": [
    "%%timeit -r1 -n10\n",
    "\n",
    "cp.asarray(array_in_ram)   # from RAM to GPU"
   ]
  },
  {
   "cell_type": "code",
   "execution_count": null,
   "id": "89f5318d-19a7-40b3-8985-99c514b96396",
   "metadata": {},
   "outputs": [],
   "source": [
    "%%timeit -r1 -n10\n",
    "\n",
    "array_on_gpu.get()         # from GPU to RAM"
   ]
  },
  {
   "cell_type": "code",
   "execution_count": null,
   "id": "3e2cbf7b-48f1-4f6c-b20c-a9055efc8b2e",
   "metadata": {},
   "outputs": [],
   "source": []
  },
  {
   "cell_type": "code",
   "execution_count": null,
   "id": "dc4f32d7-7b41-491f-ade5-686a770d43b5",
   "metadata": {},
   "outputs": [],
   "source": []
  },
  {
   "cell_type": "code",
   "execution_count": null,
   "id": "a8134396-b2f9-4339-92bb-00c81638eb8b",
   "metadata": {},
   "outputs": [],
   "source": []
  },
  {
   "cell_type": "code",
   "execution_count": null,
   "id": "ffd0f978-a012-4951-bc53-4b2e20b9c078",
   "metadata": {
    "editable": true,
    "slideshow": {
     "slide_type": ""
    },
    "tags": [
     "raises-exception"
    ]
   },
   "outputs": [],
   "source": [
    "array = np.array([0.0, 1.1, 2.2, 3.3, 4.4, 5.5])\n",
    "\n",
    "array[np.array([2, 3, 5, 6, 7, 8])]"
   ]
  },
  {
   "cell_type": "code",
   "execution_count": null,
   "id": "999299c7-12af-4c85-bc03-5c266d01e891",
   "metadata": {},
   "outputs": [],
   "source": [
    "array = cp.array([0.0, 1.1, 2.2, 3.3, 4.4, 5.5])\n",
    "\n",
    "array[cp.array([2, 3, 5, 6, 7, 8])]"
   ]
  },
  {
   "cell_type": "code",
   "execution_count": null,
   "id": "73c33608-5d33-4c6b-89cd-0a0c0c9aee4f",
   "metadata": {},
   "outputs": [],
   "source": []
  },
  {
   "cell_type": "code",
   "execution_count": null,
   "id": "c04ba158-3768-4dc5-a1c4-7426b13f9ca5",
   "metadata": {},
   "outputs": [],
   "source": []
  },
  {
   "cell_type": "code",
   "execution_count": null,
   "id": "63fc8875-3db0-4933-8ed4-7e400adff717",
   "metadata": {},
   "outputs": [],
   "source": []
  },
  {
   "cell_type": "code",
   "execution_count": null,
   "id": "d259bc52-e17e-4d24-8adb-90344eab5107",
   "metadata": {},
   "outputs": [],
   "source": [
    "a = cp.random.uniform(5, 10, 1000000)\n",
    "b = cp.random.uniform(10, 20, 1000000)\n",
    "c = cp.random.uniform(-0.1, 0.1, 1000000)"
   ]
  },
  {
   "cell_type": "code",
   "execution_count": null,
   "id": "eb009617-403e-4588-afa4-4d8091115bb7",
   "metadata": {},
   "outputs": [],
   "source": []
  },
  {
   "cell_type": "code",
   "execution_count": null,
   "id": "ffebad1d-0a07-4872-b219-f7b4b11127ab",
   "metadata": {},
   "outputs": [],
   "source": []
  },
  {
   "cell_type": "code",
   "execution_count": null,
   "id": "21fb0c93-b0ab-4408-9dfb-0b61ae17ccf1",
   "metadata": {},
   "outputs": [],
   "source": []
  },
  {
   "cell_type": "code",
   "execution_count": null,
   "id": "b616b474-ecf5-4a44-9e4b-055ebe9a02e4",
   "metadata": {},
   "outputs": [],
   "source": [
    "intpow = cp.ElementwiseKernel(\"float64 x, int64 n\", \"float64 out\", '''\n",
    "    out = 1.0;\n",
    "    for (int i = 0;  i < n;  i++) {\n",
    "        out *= x;\n",
    "    }\n",
    "''', \"intpow\")\n",
    "intpow"
   ]
  },
  {
   "cell_type": "code",
   "execution_count": null,
   "id": "76a05fc2-3b6e-4e44-ac69-999539a25815",
   "metadata": {},
   "outputs": [],
   "source": [
    "intpow(b, 2)"
   ]
  },
  {
   "cell_type": "code",
   "execution_count": null,
   "id": "e20568fe-fa91-480e-9870-77b7505d1bf6",
   "metadata": {},
   "outputs": [],
   "source": [
    "b**2"
   ]
  },
  {
   "cell_type": "code",
   "execution_count": null,
   "id": "9d76eb94-780e-4e68-8560-7fb2c173136f",
   "metadata": {},
   "outputs": [],
   "source": []
  },
  {
   "cell_type": "code",
   "execution_count": null,
   "id": "c2221008-8ec9-4f63-9d9f-58a2b88065c6",
   "metadata": {},
   "outputs": [],
   "source": []
  },
  {
   "cell_type": "code",
   "execution_count": null,
   "id": "8c08a66b-4afa-420d-9c81-02e7e87962ac",
   "metadata": {},
   "outputs": [],
   "source": []
  },
  {
   "cell_type": "code",
   "execution_count": null,
   "id": "0f9ff47b-8789-4b3a-bcb2-b97d5e53b626",
   "metadata": {},
   "outputs": [],
   "source": [
    "quadratic_formula = cp.ElementwiseKernel(\"float64 a, float64 b, float64 c\", \"float64 out\", '''\n",
    "    out = (-b + sqrt(b*b - 4*a*c)) / (2*a);\n",
    "''', \"quadratic_formula\")\n",
    "\n",
    "quadratic_formula(a, b, c)"
   ]
  },
  {
   "cell_type": "code",
   "execution_count": null,
   "id": "16a73abc-ff97-4db8-b15a-e280c23ba813",
   "metadata": {},
   "outputs": [],
   "source": [
    "%%timeit -r1 -n1000\n",
    "\n",
    "(-b + cp.sqrt(b**2 - 4*a*c)) / (2*a)"
   ]
  },
  {
   "cell_type": "code",
   "execution_count": null,
   "id": "efdfbc10-c230-4706-a3fb-86e664f2d301",
   "metadata": {},
   "outputs": [],
   "source": [
    "%%timeit -r1 -n1000\n",
    "\n",
    "quadratic_formula(a, b, c)"
   ]
  },
  {
   "cell_type": "code",
   "execution_count": null,
   "id": "0171a1e6-c77b-44f7-b5fb-16abfebaadea",
   "metadata": {},
   "outputs": [],
   "source": []
  },
  {
   "cell_type": "code",
   "execution_count": null,
   "id": "d77cd853-5cf0-43de-a51d-4ed8ce0f4d8f",
   "metadata": {},
   "outputs": [],
   "source": []
  },
  {
   "cell_type": "code",
   "execution_count": null,
   "id": "7db709bd-3f0e-4488-9b1b-bf8ac50abbf2",
   "metadata": {},
   "outputs": [],
   "source": []
  },
  {
   "cell_type": "code",
   "execution_count": null,
   "id": "0ac3c8f3-eacc-4e55-8e56-33d20b8003bb",
   "metadata": {
    "editable": true,
    "slideshow": {
     "slide_type": ""
    },
    "tags": []
   },
   "outputs": [],
   "source": [
    "quadratic_formula_raw = cp.RawKernel(r'''\n",
    "extern \"C\" __global__\n",
    "void quadratic_formula_raw(const double* a, const double* b, const double* c, int length, double* out) {\n",
    "    int i = blockDim.x * blockIdx.x + threadIdx.x;\n",
    "    if (i < length) {\n",
    "        out[i] = (-b[i] + sqrt(b[i]*b[i] - 4*a[i]*c[i])) / (2*a[i]);\n",
    "    }\n",
    "}\n",
    "''', \"quadratic_formula_raw\")\n",
    "\n",
    "out = cp.empty_like(a)\n",
    "\n",
    "threads_per_block = 1024\n",
    "blocks_per_grid = int(np.ceil(len(out) / 1024))\n",
    "\n",
    "quadratic_formula_raw((blocks_per_grid,), (threads_per_block,), (a, b, c, len(out), out))\n",
    "\n",
    "out"
   ]
  },
  {
   "cell_type": "code",
   "execution_count": null,
   "id": "f2bfe0d7-fb98-43f0-b8cd-062c8fa8cf4d",
   "metadata": {},
   "outputs": [],
   "source": []
  },
  {
   "cell_type": "code",
   "execution_count": null,
   "id": "293a4cbd-c9d6-4a64-b2b0-eb489c35492f",
   "metadata": {},
   "outputs": [],
   "source": []
  },
  {
   "cell_type": "code",
   "execution_count": null,
   "id": "d7ee47a6-bb1a-4c12-8492-01cf11d76f32",
   "metadata": {},
   "outputs": [],
   "source": []
  },
  {
   "cell_type": "markdown",
   "id": "7e579c0b-61e2-4d0d-b09d-112f5a1207df",
   "metadata": {},
   "source": [
    "## Numba"
   ]
  },
  {
   "cell_type": "code",
   "execution_count": null,
   "id": "de305454-fe63-4963-b1db-c2a396567c89",
   "metadata": {},
   "outputs": [],
   "source": [
    "@nb.cuda.jit\n",
    "def quadratic_formula_numba_cuda(a, b, c, out):\n",
    "    i = nb.cuda.grid(1)   # 1-dimensional\n",
    "    if i < len(out):\n",
    "        out[i] = (-b[i] + math.sqrt(b[i]**2 - 4*a[i]*c[i])) / (2*a[i])\n",
    "\n",
    "out = cp.empty_like(a)\n",
    "\n",
    "threads_per_block = 1024\n",
    "blocks_per_grid = int(np.ceil(len(out) / 1024))\n",
    "\n",
    "quadratic_formula_numba_cuda[blocks_per_grid, threads_per_block](a, b, c, out)\n",
    "\n",
    "out"
   ]
  },
  {
   "cell_type": "code",
   "execution_count": null,
   "id": "51b5c5b6-953e-4c73-9c70-45d6ca2bcae6",
   "metadata": {},
   "outputs": [],
   "source": []
  },
  {
   "cell_type": "code",
   "execution_count": null,
   "id": "ed9b079c-4ece-42c4-90d5-000549d77e5c",
   "metadata": {},
   "outputs": [],
   "source": []
  },
  {
   "cell_type": "code",
   "execution_count": null,
   "id": "0a7549a0-a44f-4b5f-9302-54f3f59424f9",
   "metadata": {},
   "outputs": [],
   "source": []
  },
  {
   "cell_type": "markdown",
   "id": "0ad4ff46-511b-4601-9657-a6db8dafb5c0",
   "metadata": {},
   "source": [
    "## JAX"
   ]
  },
  {
   "cell_type": "markdown",
   "id": "e8d1bc02-f058-4412-9906-ef7b8054ea17",
   "metadata": {},
   "source": [
    "## Awkward Array"
   ]
  },
  {
   "cell_type": "code",
   "execution_count": null,
   "id": "90e5398e-5d49-49ed-a3ea-e3cf22af8b01",
   "metadata": {},
   "outputs": [],
   "source": [
    "with uproot.open(\"data/SMHiggsToZZTo4L.root:Events\") as tree:\n",
    "    events_pt, events_eta, events_phi, events_charge = tree.arrays(\n",
    "        [\"Electron_pt\", \"Electron_eta\", \"Electron_phi\", \"Electron_charge\"], how=tuple\n",
    "    )"
   ]
  },
  {
   "cell_type": "code",
   "execution_count": null,
   "id": "0ccfdfa0-adc2-4ded-8494-6dd4430783d5",
   "metadata": {},
   "outputs": [],
   "source": [
    "electrons = ak.to_backend(\n",
    "    ak.zip({\n",
    "        \"pt\": events_pt,\n",
    "        \"eta\": events_eta,\n",
    "        \"phi\": events_phi,\n",
    "        \"charge\": events_charge,\n",
    "    },\n",
    "    with_name=\"Momentum4D\",\n",
    "), \"cuda\")\n",
    "\n",
    "electrons"
   ]
  },
  {
   "cell_type": "code",
   "execution_count": null,
   "id": "caa35134-ff67-43c3-890a-93245dc25beb",
   "metadata": {},
   "outputs": [],
   "source": []
  },
  {
   "cell_type": "code",
   "execution_count": null,
   "id": "0fdf9cc9-a959-44e7-ad9b-3c5956953fb4",
   "metadata": {},
   "outputs": [],
   "source": []
  },
  {
   "cell_type": "code",
   "execution_count": null,
   "id": "e7e861ff-81ce-4244-8ce9-ee538b164b99",
   "metadata": {},
   "outputs": [],
   "source": []
  },
  {
   "cell_type": "code",
   "execution_count": null,
   "id": "6886b029-65c1-4760-a96f-52dda719da82",
   "metadata": {},
   "outputs": [],
   "source": [
    "e1, e2 = ak.unzip(ak.combinations(electrons, 2))\n",
    "z_mass = np.sqrt(\n",
    "    2*e1.pt*e2.pt * (np.cosh(e1.eta - e2.eta) - np.cos(e1.phi - e2.phi))\n",
    ")\n",
    "np.max(z_mass, axis=-1)"
   ]
  },
  {
   "cell_type": "code",
   "execution_count": null,
   "id": "55d91cf6-5a2b-45ad-b504-276d4df063b8",
   "metadata": {},
   "outputs": [],
   "source": []
  },
  {
   "cell_type": "code",
   "execution_count": null,
   "id": "5b9e9678-9414-4730-86d6-f123a4ae3d3d",
   "metadata": {},
   "outputs": [],
   "source": []
  },
  {
   "cell_type": "code",
   "execution_count": null,
   "id": "c790eaa5-f52d-49e7-a68d-e1c33cac1cec",
   "metadata": {},
   "outputs": [],
   "source": []
  },
  {
   "cell_type": "code",
   "execution_count": null,
   "id": "f4fcc94b-f512-4f17-8d2d-791fed8ce7e8",
   "metadata": {},
   "outputs": [],
   "source": [
    "ak.numba.register_and_check()\n",
    "\n",
    "@nb.cuda.jit(extensions=[ak.numba.cuda])\n",
    "def mass_of_heaviest_dielectron(electrons, out):\n",
    "    thread_idx = nb.cuda.grid(1)\n",
    "    if thread_idx < len(electrons):\n",
    "        electrons_in_one_event = electrons[thread_idx]\n",
    "        for i, e1 in enumerate(electrons_in_one_event):\n",
    "            for e2 in electrons_in_one_event[i + 1:]:\n",
    "                if e1.charge != e2.charge:\n",
    "                    m = math.sqrt(\n",
    "                        2*e1.pt*e2.pt * (math.cosh(e1.eta - e2.eta) - math.cos(e1.phi - e2.phi))\n",
    "                    )\n",
    "                    if m > out[thread_idx]:\n",
    "                        out[thread_idx] = m\n",
    "\n",
    "threads_per_block = 1024\n",
    "blocks_per_grid = int(np.ceil(len(electrons) / 1024))\n",
    "\n",
    "out = cp.zeros(len(electrons), dtype=np.float32)\n",
    "mass_of_heaviest_dielectron[blocks_per_grid, threads_per_block](electrons, out)\n",
    "\n",
    "out"
   ]
  },
  {
   "cell_type": "code",
   "execution_count": null,
   "id": "810c820d-9cfa-4fc6-9556-8fd61056c2b6",
   "metadata": {},
   "outputs": [],
   "source": []
  },
  {
   "cell_type": "code",
   "execution_count": null,
   "id": "358d5b84-f495-4d0d-8e9d-518ad3222ed9",
   "metadata": {},
   "outputs": [],
   "source": []
  },
  {
   "cell_type": "code",
   "execution_count": null,
   "id": "248e5177-fe76-41ca-878d-0f6608c3bbc7",
   "metadata": {},
   "outputs": [],
   "source": []
  },
  {
   "cell_type": "code",
   "execution_count": null,
   "id": "f9e58663-ef30-4c80-8a0d-62e880ff30e3",
   "metadata": {},
   "outputs": [],
   "source": [
    "@nb.cuda.jit(extensions=[ak.numba.cuda], device=True)\n",
    "def compute_mass(event):\n",
    "    out = np.float32(0)\n",
    "    for i, e1 in enumerate(event):\n",
    "        for e2 in event[i + 1:]:\n",
    "            if e1.charge != e2.charge:\n",
    "                m = math.sqrt(\n",
    "                    2*e1.pt*e2.pt * (math.cosh(e1.eta - e2.eta) - math.cos(e1.phi - e2.phi))\n",
    "                )\n",
    "                if m > out:\n",
    "                    out = m\n",
    "    return out\n",
    "\n",
    "@nb.cuda.jit(extensions=[ak.numba.cuda])\n",
    "def mass_of_heaviest_dielectron_2(events, out):\n",
    "    thread_idx = nb.cuda.grid(1)\n",
    "    if thread_idx < len(events):\n",
    "        out[thread_idx] = compute_mass(events[thread_idx])\n",
    "\n",
    "# same threads_per_block, blocks_per_grid\n",
    "\n",
    "out = cp.zeros(len(electrons), dtype=np.float32)\n",
    "mass_of_heaviest_dielectron_2[blocks_per_grid, threads_per_block](electrons, out)\n",
    "\n",
    "out"
   ]
  },
  {
   "cell_type": "code",
   "execution_count": null,
   "id": "ad130502-e18b-4a0e-94ee-8be34b1aec5c",
   "metadata": {},
   "outputs": [],
   "source": []
  },
  {
   "cell_type": "code",
   "execution_count": null,
   "id": "c804ed4b-d4a5-4c6d-b52a-189d3274d603",
   "metadata": {},
   "outputs": [],
   "source": []
  },
  {
   "cell_type": "code",
   "execution_count": null,
   "id": "f9d98e53-39a5-4f84-8097-c114e33cc689",
   "metadata": {},
   "outputs": [],
   "source": []
  }
 ],
 "metadata": {
  "kernelspec": {
   "display_name": "Python 3 (ipykernel)",
   "language": "python",
   "name": "python3"
  },
  "language_info": {
   "codemirror_mode": {
    "name": "ipython",
    "version": 3
   },
   "file_extension": ".py",
   "mimetype": "text/x-python",
   "name": "python",
   "nbconvert_exporter": "python",
   "pygments_lexer": "ipython3",
   "version": "3.11.11"
  }
 },
 "nbformat": 4,
 "nbformat_minor": 5
}
