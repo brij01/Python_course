{
 "cells": [
  {
   "cell_type": "markdown",
   "id": "75651bb6-36d7-4f65-993d-f84e1e5e04f9",
   "metadata": {},
   "source": [
    "# Lesson 5: Python on GPUs"
   ]
  },
  {
   "cell_type": "code",
   "execution_count": null,
   "id": "e339dd65-ac0f-40d7-9693-3d6724d51bd4",
   "metadata": {},
   "outputs": [],
   "source": [
    "raise Exception"
   ]
  },
  {
   "cell_type": "code",
   "execution_count": 2,
   "id": "2b388cc0-9e22-4e64-8686-47364dcb11f0",
   "metadata": {},
   "outputs": [
    {
     "data": {
      "text/plain": [
       "4"
      ]
     },
     "execution_count": 2,
     "metadata": {},
     "output_type": "execute_result"
    }
   ],
   "source": [
    "2 + 2"
   ]
  },
  {
   "cell_type": "code",
   "execution_count": null,
   "id": "2690ca1d-072b-4d4d-9287-b3fe60463706",
   "metadata": {},
   "outputs": [],
   "source": []
  }
 ],
 "metadata": {
  "kernelspec": {
   "display_name": "Python 3 (ipykernel)",
   "language": "python",
   "name": "python3"
  },
  "language_info": {
   "codemirror_mode": {
    "name": "ipython",
    "version": 3
   },
   "file_extension": ".py",
   "mimetype": "text/x-python",
   "name": "python",
   "nbconvert_exporter": "python",
   "pygments_lexer": "ipython3",
   "version": "3.11.11"
  }
 },
 "nbformat": 4,
 "nbformat_minor": 5
}
